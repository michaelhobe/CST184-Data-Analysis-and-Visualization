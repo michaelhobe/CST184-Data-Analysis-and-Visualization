{
 "cells": [
  {
   "cell_type": "code",
   "execution_count": 3,
   "id": "d37eb892-f3cc-492f-ac8e-0a34430a4dc0",
   "metadata": {},
   "outputs": [
    {
     "name": "stderr",
     "output_type": "stream",
     "text": [
      "Installing package into 'C:/Users/micha/AppData/Local/R/win-library/4.5'\n",
      "(as 'lib' is unspecified)\n",
      "\n"
     ]
    },
    {
     "name": "stdout",
     "output_type": "stream",
     "text": [
      "package 'zoo' successfully unpacked and MD5 sums checked\n",
      "\n",
      "The downloaded binary packages are in\n",
      "\tC:\\Users\\micha\\AppData\\Local\\Temp\\Rtmpiyv8mR\\downloaded_packages\n"
     ]
    }
   ],
   "source": [
    "install.packages(\"zoo\")"
   ]
  },
  {
   "cell_type": "code",
   "execution_count": 6,
   "id": "6744906c-afc5-4c5f-af97-ac231e7c3a95",
   "metadata": {},
   "outputs": [
    {
     "ename": "ERROR",
     "evalue": "Error: object 'co2_data' not found\n",
     "output_type": "error",
     "traceback": [
      "Error: object 'co2_data' not found\nTraceback:\n",
      "1. .handleSimpleError(function (cnd) \n . {\n .     watcher$capture_plot_and_output()\n .     cnd <- sanitize_call(cnd)\n .     watcher$push(cnd)\n .     switch(on_error, continue = invokeRestart(\"eval_continue\"), \n .         stop = invokeRestart(\"eval_stop\"), error = NULL)\n . }, \"object 'co2_data' not found\", base::quote(eval(expr, envir)))"
     ]
    }
   ],
   "source": [
    "library(zoo)\n",
    "smoothed <- rollmean(co2_data, k = 5)"
   ]
  },
  {
   "cell_type": "code",
   "execution_count": 7,
   "id": "4054f827-1391-46de-b1fa-1c03a69f43b4",
   "metadata": {},
   "outputs": [
    {
     "ename": "ERROR",
     "evalue": "Error: object 'temps' not found\n",
     "output_type": "error",
     "traceback": [
      "Error: object 'temps' not found\nTraceback:\n",
      "1. .handleSimpleError(function (cnd) \n . {\n .     watcher$capture_plot_and_output()\n .     cnd <- sanitize_call(cnd)\n .     watcher$push(cnd)\n .     switch(on_error, continue = invokeRestart(\"eval_continue\"), \n .         stop = invokeRestart(\"eval_stop\"), error = NULL)\n . }, \"object 'temps' not found\", base::quote(eval(expr, envir)))"
     ]
    }
   ],
   "source": [
    "library(ggplot2)\n",
    "\n",
    "# Assuming you have a data frame 'temps' with Year and Anomaly\n",
    "ggplot(temps, aes(x = Year, y = Anomaly)) +\n",
    "  geom_line() +\n",
    "  labs(title = \"Global Temperature Anomalies\", y = \"°C from Baseline\")"
   ]
  },
  {
   "cell_type": "code",
   "execution_count": null,
   "id": "7f30acc6-b492-4a3b-ae35-6e64fa8b3286",
   "metadata": {},
   "outputs": [],
   "source": []
  }
 ],
 "metadata": {
  "kernelspec": {
   "display_name": "R",
   "language": "R",
   "name": "ir"
  },
  "language_info": {
   "codemirror_mode": "r",
   "file_extension": ".r",
   "mimetype": "text/x-r-source",
   "name": "R",
   "pygments_lexer": "r",
   "version": "4.5.1"
  }
 },
 "nbformat": 4,
 "nbformat_minor": 5
}
