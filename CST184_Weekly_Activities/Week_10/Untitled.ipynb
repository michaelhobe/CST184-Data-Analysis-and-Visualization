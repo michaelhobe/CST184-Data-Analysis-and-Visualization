{
 "cells": [
  {
   "cell_type": "code",
   "execution_count": 8,
   "id": "1dc522b3-cf22-49b3-b547-614565851511",
   "metadata": {},
   "outputs": [
    {
     "data": {
      "text/html": [
       "<table class=\"dataframe\">\n",
       "<caption>A data.frame: 6 × 3</caption>\n",
       "<thead>\n",
       "\t<tr><th></th><th scope=col>Country</th><th scope=col>Sugar_Intake_g_per_day</th><th scope=col>Obesity_Rate_percent</th></tr>\n",
       "\t<tr><th></th><th scope=col>&lt;chr&gt;</th><th scope=col>&lt;dbl&gt;</th><th scope=col>&lt;dbl&gt;</th></tr>\n",
       "</thead>\n",
       "<tbody>\n",
       "\t<tr><th scope=row>1</th><td>Australia</td><td> 81.3</td><td>28.5</td></tr>\n",
       "\t<tr><th scope=row>2</th><td>Brazil   </td><td> 85.7</td><td>31.0</td></tr>\n",
       "\t<tr><th scope=row>3</th><td>Canada   </td><td> 42.3</td><td>22.7</td></tr>\n",
       "\t<tr><th scope=row>4</th><td>China    </td><td> 53.7</td><td>21.5</td></tr>\n",
       "\t<tr><th scope=row>5</th><td>France   </td><td> 94.8</td><td>37.5</td></tr>\n",
       "\t<tr><th scope=row>6</th><td>Germany  </td><td>106.7</td><td>37.8</td></tr>\n",
       "</tbody>\n",
       "</table>\n"
      ],
      "text/latex": [
       "A data.frame: 6 × 3\n",
       "\\begin{tabular}{r|lll}\n",
       "  & Country & Sugar\\_Intake\\_g\\_per\\_day & Obesity\\_Rate\\_percent\\\\\n",
       "  & <chr> & <dbl> & <dbl>\\\\\n",
       "\\hline\n",
       "\t1 & Australia &  81.3 & 28.5\\\\\n",
       "\t2 & Brazil    &  85.7 & 31.0\\\\\n",
       "\t3 & Canada    &  42.3 & 22.7\\\\\n",
       "\t4 & China     &  53.7 & 21.5\\\\\n",
       "\t5 & France    &  94.8 & 37.5\\\\\n",
       "\t6 & Germany   & 106.7 & 37.8\\\\\n",
       "\\end{tabular}\n"
      ],
      "text/markdown": [
       "\n",
       "A data.frame: 6 × 3\n",
       "\n",
       "| <!--/--> | Country &lt;chr&gt; | Sugar_Intake_g_per_day &lt;dbl&gt; | Obesity_Rate_percent &lt;dbl&gt; |\n",
       "|---|---|---|---|\n",
       "| 1 | Australia |  81.3 | 28.5 |\n",
       "| 2 | Brazil    |  85.7 | 31.0 |\n",
       "| 3 | Canada    |  42.3 | 22.7 |\n",
       "| 4 | China     |  53.7 | 21.5 |\n",
       "| 5 | France    |  94.8 | 37.5 |\n",
       "| 6 | Germany   | 106.7 | 37.8 |\n",
       "\n"
      ],
      "text/plain": [
       "  Country   Sugar_Intake_g_per_day Obesity_Rate_percent\n",
       "1 Australia  81.3                  28.5                \n",
       "2 Brazil     85.7                  31.0                \n",
       "3 Canada     42.3                  22.7                \n",
       "4 China      53.7                  21.5                \n",
       "5 France     94.8                  37.5                \n",
       "6 Germany   106.7                  37.8                "
      ]
     },
     "metadata": {},
     "output_type": "display_data"
    }
   ],
   "source": [
    "data <- read.csv(\"sdg3_sugar_obesity_data.csv\")\n",
    "head(data)"
   ]
  },
  {
   "cell_type": "code",
   "execution_count": 9,
   "id": "c9f2844c-2a17-4852-92dc-ce0c7b0cc0fd",
   "metadata": {},
   "outputs": [
    {
     "data": {
      "text/plain": [
       "   Country          Sugar_Intake_g_per_day Obesity_Rate_percent\n",
       " Length:25          Min.   : 42.30         Min.   :12.40       \n",
       " Class :character   1st Qu.: 55.00         1st Qu.:20.60       \n",
       " Mode  :character   Median : 81.30         Median :24.90       \n",
       "                    Mean   : 76.03         Mean   :28.04       \n",
       "                    3rd Qu.: 94.80         3rd Qu.:37.00       \n",
       "                    Max.   :117.20         Max.   :45.30       "
      ]
     },
     "metadata": {},
     "output_type": "display_data"
    },
    {
     "data": {
      "image/png": "[encoded data removed]",
      "text/plain": [
       "Plot with title \"Sugar Intake vs Obesity Rate\""
      ]
     },
     "metadata": {
      "image/png": {
       "height": 420,
       "width": 420
      }
     },
     "output_type": "display_data"
    }
   ],
   "source": [
    "summary(data)\n",
    "plot(data$Sugar_Intake_g_per_day, data$Obesity_Rate_percent,\n",
    "     main = \"Sugar Intake vs Obesity Rate\",\n",
    "     xlab = \"Sugar Intake (g/day)\",\n",
    "     ylab = \"Obesity Rate (%)\")"
   ]
  },
  {
   "cell_type": "code",
   "execution_count": 13,
   "id": "21d47078-db54-4aaf-84f2-a3c893122993",
   "metadata": {},
   "outputs": [
    {
     "data": {
      "text/plain": [
       "\n",
       "\tWelch Two Sample t-test\n",
       "\n",
       "data:  Obesity_Rate_percent by Group\n",
       "t = 8.4184, df = 16.684, p-value = 2.084e-07\n",
       "alternative hypothesis: true difference in means between group Above Avg and group Low is not equal to 0\n",
       "95 percent confidence interval:\n",
       " 12.45148 20.79595\n",
       "sample estimates:\n",
       "mean in group Above Avg       mean in group Low \n",
       "               36.01538                19.39167 \n"
      ]
     },
     "metadata": {},
     "output_type": "display_data"
    }
   ],
   "source": [
    "# Create groups\n",
    "avg_sugar <- mean(data$Sugar_Intake_g_per_day)\n",
    "data$Group <- ifelse(data$Sugar_Intake_g_per_day > avg_sugar, \"Above Avg\", \"Low\")\n",
    "\n",
    "# Run t-test\n",
    "t.test(Obesity_Rate_percent ~ Group, data = data)"
   ]
  },
  {
   "cell_type": "code",
   "execution_count": 14,
   "id": "1199d6ff-0bae-4427-b903-b1e4a18c6141",
   "metadata": {},
   "outputs": [
    {
     "data": {
      "text/plain": [
       "\n",
       "Call:\n",
       "lm(formula = Obesity_Rate_percent ~ Sugar_Intake_g_per_day, data = data)\n",
       "\n",
       "Residuals:\n",
       "    Min      1Q  Median      3Q     Max \n",
       "-7.9611 -2.3481 -0.1956  2.2429  7.9251 \n",
       "\n",
       "Coefficients:\n",
       "                       Estimate Std. Error t value Pr(>|t|)    \n",
       "(Intercept)            -1.85648    2.66618  -0.696    0.493    \n",
       "Sugar_Intake_g_per_day  0.39318    0.03361  11.699 3.66e-11 ***\n",
       "---\n",
       "Signif. codes:  0 '***' 0.001 '**' 0.01 '*' 0.05 '.' 0.1 ' ' 1\n",
       "\n",
       "Residual standard error: 3.807 on 23 degrees of freedom\n",
       "Multiple R-squared:  0.8561,\tAdjusted R-squared:  0.8499 \n",
       "F-statistic: 136.9 on 1 and 23 DF,  p-value: 3.664e-11\n"
      ]
     },
     "metadata": {},
     "output_type": "display_data"
    }
   ],
   "source": [
    "model <- lm(Obesity_Rate_percent ~ Sugar_Intake_g_per_day, data = data)\n",
    "summary(model)"
   ]
  },
  {
   "cell_type": "code",
   "execution_count": 16,
   "id": "7c8362d2-a051-4991-b9dc-926ccdb2e0c5",
   "metadata": {},
   "outputs": [
    {
     "name": "stderr",
     "output_type": "stream",
     "text": [
      "\u001b[1m\u001b[22m`geom_smooth()` using formula = 'y ~ x'\n",
      "Warning message:\n",
      "\"\u001b[1m\u001b[22mThe following aesthetics were dropped during statistical transformation: \u001b[32mlabel\u001b[39m.\n",
      "\u001b[36mℹ\u001b[39m This can happen when ggplot fails to infer the correct grouping structure in the data.\n",
      "\u001b[36mℹ\u001b[39m Did you forget to specify a `group` aesthetic or to convert a numerical variable into a factor?\"\n"
     ]
    },
    {
     "data": {
      "image/png": "[encoded data removed]",
      "text/plain": [
       "plot without title"
      ]
     },
     "metadata": {
      "image/png": {
       "height": 420,
       "width": 420
      }
     },
     "output_type": "display_data"
    }
   ],
   "source": [
    "library(ggplot2)\n",
    "\n",
    "ggplot(data, aes(x = Sugar_Intake_g_per_day, y = Obesity_Rate_percent, label = Country)) +\n",
    "  geom_point(color = \"darkred\") +\n",
    "    geom_text() +\n",
    "  geom_smooth(method = \"lm\", se = TRUE, color = \"blue\") +\n",
    "  labs(\n",
    "    title = \"Regression: Sugar Intake vs Obesity Rate\",\n",
    "    x = \"Sugar Intake (g/day)\",\n",
    "    y = \"Obesity Rate (%)\"\n",
    "  ) +\n",
    "  theme_minimal()"
   ]
  },
  {
   "cell_type": "code",
   "execution_count": null,
   "id": "990e6ac8-78ce-4c60-9058-8ebddca7ef23",
   "metadata": {},
   "outputs": [],
   "source": []
  }
 ],
 "metadata": {
  "kernelspec": {
   "display_name": "R",
   "language": "R",
   "name": "ir"
  },
  "language_info": {
   "codemirror_mode": "r",
   "file_extension": ".r",
   "mimetype": "text/x-r-source",
   "name": "R",
   "pygments_lexer": "r",
   "version": "4.5.1"
  }
 },
 "nbformat": 4,
 "nbformat_minor": 5
}
