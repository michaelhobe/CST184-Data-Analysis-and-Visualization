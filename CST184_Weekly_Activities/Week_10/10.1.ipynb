{
 "cells": [
  {
   "cell_type": "code",
   "execution_count": 1,
   "id": "6d44ac13-4e10-4e77-b0b2-a1a40bb71838",
   "metadata": {},
   "outputs": [
    {
     "data": {
      "text/html": [
       "<table class=\"dataframe\">\n",
       "<caption>A data.frame: 6 × 2</caption>\n",
       "<thead>\n",
       "\t<tr><th></th><th scope=col>rate</th><th scope=col>group</th></tr>\n",
       "\t<tr><th></th><th scope=col>&lt;dbl&gt;</th><th scope=col>&lt;chr&gt;</th></tr>\n",
       "</thead>\n",
       "<tbody>\n",
       "\t<tr><th scope=row>1</th><td>15.112875</td><td>Low Pollution</td></tr>\n",
       "\t<tr><th scope=row>2</th><td> 9.305905</td><td>Low Pollution</td></tr>\n",
       "\t<tr><th scope=row>3</th><td>12.089385</td><td>Low Pollution</td></tr>\n",
       "\t<tr><th scope=row>4</th><td>12.898588</td><td>Low Pollution</td></tr>\n",
       "\t<tr><th scope=row>5</th><td>12.212805</td><td>Low Pollution</td></tr>\n",
       "\t<tr><th scope=row>6</th><td>10.681626</td><td>Low Pollution</td></tr>\n",
       "</tbody>\n",
       "</table>\n"
      ],
      "text/latex": [
       "A data.frame: 6 × 2\n",
       "\\begin{tabular}{r|ll}\n",
       "  & rate & group\\\\\n",
       "  & <dbl> & <chr>\\\\\n",
       "\\hline\n",
       "\t1 & 15.112875 & Low Pollution\\\\\n",
       "\t2 &  9.305905 & Low Pollution\\\\\n",
       "\t3 & 12.089385 & Low Pollution\\\\\n",
       "\t4 & 12.898588 & Low Pollution\\\\\n",
       "\t5 & 12.212805 & Low Pollution\\\\\n",
       "\t6 & 10.681626 & Low Pollution\\\\\n",
       "\\end{tabular}\n"
      ],
      "text/markdown": [
       "\n",
       "A data.frame: 6 × 2\n",
       "\n",
       "| <!--/--> | rate &lt;dbl&gt; | group &lt;chr&gt; |\n",
       "|---|---|---|\n",
       "| 1 | 15.112875 | Low Pollution |\n",
       "| 2 |  9.305905 | Low Pollution |\n",
       "| 3 | 12.089385 | Low Pollution |\n",
       "| 4 | 12.898588 | Low Pollution |\n",
       "| 5 | 12.212805 | Low Pollution |\n",
       "| 6 | 10.681626 | Low Pollution |\n",
       "\n"
      ],
      "text/plain": [
       "  rate      group        \n",
       "1 15.112875 Low Pollution\n",
       "2  9.305905 Low Pollution\n",
       "3 12.089385 Low Pollution\n",
       "4 12.898588 Low Pollution\n",
       "5 12.212805 Low Pollution\n",
       "6 10.681626 Low Pollution"
      ]
     },
     "metadata": {},
     "output_type": "display_data"
    }
   ],
   "source": [
    "# Simulate asthma data (synthetic for learning)\n",
    "set.seed(42)\n",
    "\n",
    "low_pollution <- rnorm(30, mean = 11, sd = 3)   # Group A\n",
    "high_pollution <- rnorm(30, mean = 18, sd = 4)  # Group B\n",
    "\n",
    "# Combine into a dataframe\n",
    "asthma_df <- data.frame(\n",
    "  rate = c(low_pollution, high_pollution),\n",
    "  group = c(rep(\"Low Pollution\", 30), rep(\"High Pollution\", 30))\n",
    ")\n",
    "\n",
    "head(asthma_df)"
   ]
  },
  {
   "cell_type": "code",
   "execution_count": 2,
   "id": "f2da23c8-b444-4d7f-920c-d3501d6233aa",
   "metadata": {},
   "outputs": [
    {
     "name": "stdout",
     "output_type": "stream",
     "text": [
      "\n",
      "\tWelch Two Sample t-test\n",
      "\n",
      "data:  rate by group\n",
      "t = 6.1238, df = 57.32, p-value = 8.846e-08\n",
      "alternative hypothesis: true difference in means between group High Pollution and group Low Pollution is not equal to 0\n",
      "95 percent confidence interval:\n",
      " 4.244615 8.368596\n",
      "sample estimates:\n",
      "mean in group High Pollution  mean in group Low Pollution \n",
      "                    17.51237                     11.20576 \n",
      "\n"
     ]
    }
   ],
   "source": [
    "# Perform a two-sample t-test\n",
    "t_result <- t.test(rate ~ group, data = asthma_df)\n",
    "print(t_result)"
   ]
  },
  {
   "cell_type": "code",
   "execution_count": 3,
   "id": "20e5f115-fb48-4f60-907c-a11d0509ecbe",
   "metadata": {},
   "outputs": [
    {
     "data": {
      "image/png": "[encoded data removed]",
      "text/plain": [
       "plot without title"
      ]
     },
     "metadata": {
      "image/png": {
       "height": 420,
       "width": 420
      }
     },
     "output_type": "display_data"
    }
   ],
   "source": [
    "library(ggplot2)\n",
    "\n",
    "ggplot(asthma_df, aes(x = group, y = rate, fill = group)) +\n",
    "  geom_boxplot() +\n",
    "  labs(\n",
    "    title = \"Asthma Rates by Pollution Exposure\",\n",
    "    y = \"Asthma Rate (per 1000 people)\",\n",
    "    x = \"Region\"\n",
    "  ) +\n",
    "  theme_minimal()"
   ]
  },
  {
   "cell_type": "code",
   "execution_count": null,
   "id": "cfe394fc-14e2-4156-8462-8603e2f18ab7",
   "metadata": {},
   "outputs": [],
   "source": []
  }
 ],
 "metadata": {
  "kernelspec": {
   "display_name": "R",
   "language": "R",
   "name": "ir"
  },
  "language_info": {
   "codemirror_mode": "r",
   "file_extension": ".r",
   "mimetype": "text/x-r-source",
   "name": "R",
   "pygments_lexer": "r",
   "version": "4.5.1"
  }
 },
 "nbformat": 4,
 "nbformat_minor": 5
}
