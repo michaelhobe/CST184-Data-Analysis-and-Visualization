{
 "cells": [
  {
   "cell_type": "code",
   "execution_count": 1,
   "id": "c72029f6-e3f3-4392-a283-5a807c135b84",
   "metadata": {},
   "outputs": [
    {
     "name": "stderr",
     "output_type": "stream",
     "text": [
      "Installing package into 'C:/Users/micha/AppData/Local/R/win-library/4.5'\n",
      "(as 'lib' is unspecified)\n",
      "\n"
     ]
    },
    {
     "name": "stdout",
     "output_type": "stream",
     "text": [
      "package 'ggplot2' successfully unpacked and MD5 sums checked\n",
      "\n",
      "The downloaded binary packages are in\n",
      "\tC:\\Users\\micha\\AppData\\Local\\Temp\\RtmpCUkrdP\\downloaded_packages\n"
     ]
    }
   ],
   "source": [
    "install.packages(\"ggplot2\")\n",
    "library(ggplot2)"
   ]
  },
  {
   "cell_type": "code",
   "execution_count": 2,
   "id": "aa58aec4-8180-4cdc-a115-a919f7bdd98b",
   "metadata": {},
   "outputs": [
    {
     "data": {
      "text/html": [
       "7"
      ],
      "text/latex": [
       "7"
      ],
      "text/markdown": [
       "7"
      ],
      "text/plain": [
       "[1] 7"
      ]
     },
     "metadata": {},
     "output_type": "display_data"
    }
   ],
   "source": [
    "# Define parameters\n",
    "n <- 10      # total participants\n",
    "p <- 0.7     # probability of success\n",
    "\n",
    "# Calculate expected value\n",
    "expected_binom <- n * p\n",
    "expected_binom"
   ]
  },
  {
   "cell_type": "code",
   "execution_count": 3,
   "id": "5f6786b7-320c-45f1-981c-6127533a13ab",
   "metadata": {},
   "outputs": [
    {
     "data": {
      "text/html": [
       "4"
      ],
      "text/latex": [
       "4"
      ],
      "text/markdown": [
       "4"
      ],
      "text/plain": [
       "[1] 4"
      ]
     },
     "metadata": {},
     "output_type": "display_data"
    }
   ],
   "source": [
    "# Define Poisson rate (lambda)\n",
    "lambda <- 4\n",
    "\n",
    "# Expected value for Poisson = lambda\n",
    "expected_poisson <- lambda\n",
    "expected_poisson"
   ]
  },
  {
   "cell_type": "code",
   "execution_count": 4,
   "id": "8fe5c50d-e055-4df8-94ca-f21512ad7cea",
   "metadata": {},
   "outputs": [
    {
     "data": {
      "image/png": "[encoded data removed]",
      "text/plain": [
       "plot without title"
      ]
     },
     "metadata": {
      "image/png": {
       "height": 420,
       "width": 420
      }
     },
     "output_type": "display_data"
    }
   ],
   "source": [
    "# Create a binomial distribution (optional)\n",
    "binom_df <- data.frame(\n",
    "  successes = 0:n,\n",
    "  probability = dbinom(0:n, size = n, prob = p)\n",
    ")\n",
    "\n",
    "# Plot\n",
    "ggplot(binom_df, aes(x = successes, y = probability)) +\n",
    "  geom_bar(stat = \"identity\", fill = \"steelblue\") +\n",
    "  geom_vline(xintercept = expected_binom, linetype = \"dashed\", color = \"red\") +\n",
    "  labs(\n",
    "    title = \"Binomial Distribution with Expected Value\",\n",
    "    x = \"Number of People Saying Yes\",\n",
    "    y = \"Probability\"\n",
    "  ) +\n",
    "  theme_minimal()"
   ]
  },
  {
   "cell_type": "code",
   "execution_count": null,
   "id": "cc73addf-bc53-4931-a605-a9173f87a94a",
   "metadata": {},
   "outputs": [],
   "source": []
  }
 ],
 "metadata": {
  "kernelspec": {
   "display_name": "R",
   "language": "R",
   "name": "ir"
  },
  "language_info": {
   "codemirror_mode": "r",
   "file_extension": ".r",
   "mimetype": "text/x-r-source",
   "name": "R",
   "pygments_lexer": "r",
   "version": "4.5.1"
  }
 },
 "nbformat": 4,
 "nbformat_minor": 5
}
