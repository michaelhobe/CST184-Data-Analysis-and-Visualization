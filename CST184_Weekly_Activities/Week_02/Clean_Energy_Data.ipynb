{
 "cells": [
  {
   "cell_type": "code",
   "execution_count": 5,
   "id": "eb763a07",
   "metadata": {},
   "outputs": [
    {
     "name": "stdout",
     "output_type": "stream",
     "text": [
      "Original Data:\n",
      "     Country %Renewable         Region\n",
      "0      Nepal         89           Asia\n",
      "1     india          45           Asia\n",
      "2      KENYA        NaN         Africa\n",
      "3     Brazil        105  South America\n",
      "4     Brazil        105  South America\n",
      "5  Australia        NaN        Oceania\n",
      "6    Germany         48         Europe\n",
      "7      kenya        50%         africa\n",
      "\n",
      "Missing values:\n",
      "Country       0\n",
      "%Renewable    2\n",
      "Region        0\n",
      "dtype: int64\n",
      "\n",
      "Cleaned Data:\n",
      "   Country  %Renewable  Region\n",
      "0    Nepal        89.0    Asia\n",
      "1    India        45.0    Asia\n",
      "6  Germany        48.0  Europe\n",
      "7    Kenya        50.0  africa\n"
     ]
    }
   ],
   "source": [
    "\n",
    "# Step 1: Load the messy dataset\n",
    "import pandas as pd\n",
    "\n",
    "df = pd.read_csv(\"energy_raw.csv\")\n",
    "print(\"Original Data:\")\n",
    "print(df)\n",
    "\n",
    "# Step 2: Count missing values\n",
    "print(\"\\nMissing values:\")\n",
    "print(df.isnull().sum())\n",
    "\n",
    "# Step 3: Standardize country names and numeric fields\n",
    "df[\"Country\"] = df[\"Country\"].str.strip().str.title()\n",
    "df[\"%Renewable\"] = pd.to_numeric(df[\"%Renewable\"].str.replace(\"%\", \"\"), errors=\"coerce\")\n",
    "\n",
    "# Step 4: Remove duplicates and unrealistic values\n",
    "df = df.drop_duplicates()\n",
    "df = df[df[\"%Renewable\"] <= 100]\n",
    "\n",
    "# Step 5: View cleaned data\n",
    "print(\"\\nCleaned Data:\")\n",
    "print(df)\n"
   ]
  }
 ],
 "metadata": {
  "kernelspec": {
   "display_name": ".venv",
   "language": "python",
   "name": "python3"
  },
  "language_info": {
   "codemirror_mode": {
    "name": "ipython",
    "version": 3
   },
   "file_extension": ".py",
   "mimetype": "text/x-python",
   "name": "python",
   "nbconvert_exporter": "python",
   "pygments_lexer": "ipython3",
   "version": "3.12.0"
  }
 },
 "nbformat": 4,
 "nbformat_minor": 5
}
