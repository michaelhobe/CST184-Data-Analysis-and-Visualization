{
 "cells": [
  {
   "cell_type": "code",
   "execution_count": 3,
   "id": "ad99c211",
   "metadata": {},
   "outputs": [
    {
     "name": "stdout",
     "output_type": "stream",
     "text": [
      "P(Renewable > 50%): 0.6\n",
      "P(Fossil < 10%): 0.4\n",
      "P(Both): 0.2\n",
      "P(Renewable | Low Fossil): 0.5\n"
     ]
    }
   ],
   "source": [
    "\n",
    "# --- Probability with Sets Example ---\n",
    "\n",
    "# Total sample space: 100 countries\n",
    "sample_space = set(range(1, 101))\n",
    "\n",
    "# Countries using >50% renewable energy\n",
    "renewable = set(range(1, 61))  # 60 countries\n",
    "\n",
    "# Countries using <10% fossil fuels\n",
    "low_fossil = set(range(41, 81))  # 40 countries\n",
    "\n",
    "# Intersection: countries that meet both criteria\n",
    "both = renewable & low_fossil\n",
    "\n",
    "# Basic probabilities\n",
    "P_A = len(renewable) / len(sample_space)\n",
    "P_B = len(low_fossil) / len(sample_space)\n",
    "P_A_and_B = len(both) / len(sample_space)\n",
    "\n",
    "# Conditional probability: P(A | B)\n",
    "P_A_given_B = P_A_and_B / P_B\n",
    "\n",
    "# Print results\n",
    "print(\"P(Renewable > 50%):\", round(P_A, 2))\n",
    "print(\"P(Fossil < 10%):\", round(P_B, 2))\n",
    "print(\"P(Both):\", round(P_A_and_B, 2))\n",
    "print(\"P(Renewable | Low Fossil):\", round(P_A_given_B, 2))\n"
   ]
  }
 ],
 "metadata": {
  "kernelspec": {
   "display_name": ".venv",
   "language": "python",
   "name": "python3"
  },
  "language_info": {
   "codemirror_mode": {
    "name": "ipython",
    "version": 3
   },
   "file_extension": ".py",
   "mimetype": "text/x-python",
   "name": "python",
   "nbconvert_exporter": "python",
   "pygments_lexer": "ipython3",
   "version": "3.12.0"
  }
 },
 "nbformat": 4,
 "nbformat_minor": 5
}
