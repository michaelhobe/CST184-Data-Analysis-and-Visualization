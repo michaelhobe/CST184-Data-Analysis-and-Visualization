{
 "cells": [
  {
   "cell_type": "code",
   "execution_count": 5,
   "id": "03a81d4e",
   "metadata": {},
   "outputs": [
    {
     "name": "stdout",
     "output_type": "stream",
     "text": [
      "Probability of blackout given heatwave: 0.133\n"
     ]
    }
   ],
   "source": [
    "\n",
    "# --- Bayes' Theorem Example in Python ---\n",
    "\n",
    "# P(A): probability of power blackout\n",
    "P_blackout = 0.05\n",
    "\n",
    "# P(B | A): probability of heatwave on blackout days\n",
    "P_heatwave_given_blackout = 0.80\n",
    "\n",
    "# P(B): overall probability of heatwave\n",
    "P_heatwave = 0.30\n",
    "\n",
    "# Bayes' Theorem: P(A | B) = [P(B | A) * P(A)] / P(B)\n",
    "P_blackout_given_heatwave = (P_heatwave_given_blackout * P_blackout) / P_heatwave\n",
    "\n",
    "# Display result\n",
    "print(\"Probability of blackout given heatwave:\", round(P_blackout_given_heatwave, 3))\n"
   ]
  }
 ],
 "metadata": {
  "kernelspec": {
   "display_name": ".venv",
   "language": "python",
   "name": "python3"
  },
  "language_info": {
   "codemirror_mode": {
    "name": "ipython",
    "version": 3
   },
   "file_extension": ".py",
   "mimetype": "text/x-python",
   "name": "python",
   "nbconvert_exporter": "python",
   "pygments_lexer": "ipython3",
   "version": "3.12.0"
  }
 },
 "nbformat": 4,
 "nbformat_minor": 5
}
