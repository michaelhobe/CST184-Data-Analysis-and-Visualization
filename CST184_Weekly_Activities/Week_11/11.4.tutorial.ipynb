{
 "cells": [
  {
   "cell_type": "code",
   "execution_count": 3,
   "id": "44545694-2162-4d74-b6e8-f2503ba1e59a",
   "metadata": {},
   "outputs": [
    {
     "data": {
      "text/html": [
       "<table class=\"dataframe\">\n",
       "<caption>A data.frame: 6 × 4</caption>\n",
       "<thead>\n",
       "\t<tr><th></th><th scope=col>Country</th><th scope=col>Pre_Improved_Sanitation</th><th scope=col>Post_Improved_Sanitation</th><th scope=col>Sample_Size</th></tr>\n",
       "\t<tr><th></th><th scope=col>&lt;chr&gt;</th><th scope=col>&lt;int&gt;</th><th scope=col>&lt;int&gt;</th><th scope=col>&lt;int&gt;</th></tr>\n",
       "</thead>\n",
       "<tbody>\n",
       "\t<tr><th scope=row>1</th><td>Kenya   </td><td>56</td><td>70</td><td>100</td></tr>\n",
       "\t<tr><th scope=row>2</th><td>Uganda  </td><td>53</td><td>69</td><td>100</td></tr>\n",
       "\t<tr><th scope=row>3</th><td>Tanzania</td><td>61</td><td>69</td><td>100</td></tr>\n",
       "\t<tr><th scope=row>4</th><td>Rwanda  </td><td>63</td><td>75</td><td>100</td></tr>\n",
       "\t<tr><th scope=row>5</th><td>Ethiopia</td><td>47</td><td>65</td><td>100</td></tr>\n",
       "\t<tr><th scope=row>6</th><td>Nepal   </td><td>53</td><td>67</td><td>100</td></tr>\n",
       "</tbody>\n",
       "</table>\n"
      ],
      "text/latex": [
       "A data.frame: 6 × 4\n",
       "\\begin{tabular}{r|llll}\n",
       "  & Country & Pre\\_Improved\\_Sanitation & Post\\_Improved\\_Sanitation & Sample\\_Size\\\\\n",
       "  & <chr> & <int> & <int> & <int>\\\\\n",
       "\\hline\n",
       "\t1 & Kenya    & 56 & 70 & 100\\\\\n",
       "\t2 & Uganda   & 53 & 69 & 100\\\\\n",
       "\t3 & Tanzania & 61 & 69 & 100\\\\\n",
       "\t4 & Rwanda   & 63 & 75 & 100\\\\\n",
       "\t5 & Ethiopia & 47 & 65 & 100\\\\\n",
       "\t6 & Nepal    & 53 & 67 & 100\\\\\n",
       "\\end{tabular}\n"
      ],
      "text/markdown": [
       "\n",
       "A data.frame: 6 × 4\n",
       "\n",
       "| <!--/--> | Country &lt;chr&gt; | Pre_Improved_Sanitation &lt;int&gt; | Post_Improved_Sanitation &lt;int&gt; | Sample_Size &lt;int&gt; |\n",
       "|---|---|---|---|---|\n",
       "| 1 | Kenya    | 56 | 70 | 100 |\n",
       "| 2 | Uganda   | 53 | 69 | 100 |\n",
       "| 3 | Tanzania | 61 | 69 | 100 |\n",
       "| 4 | Rwanda   | 63 | 75 | 100 |\n",
       "| 5 | Ethiopia | 47 | 65 | 100 |\n",
       "| 6 | Nepal    | 53 | 67 | 100 |\n",
       "\n"
      ],
      "text/plain": [
       "  Country  Pre_Improved_Sanitation Post_Improved_Sanitation Sample_Size\n",
       "1 Kenya    56                      70                       100        \n",
       "2 Uganda   53                      69                       100        \n",
       "3 Tanzania 61                      69                       100        \n",
       "4 Rwanda   63                      75                       100        \n",
       "5 Ethiopia 47                      65                       100        \n",
       "6 Nepal    53                      67                       100        "
      ]
     },
     "metadata": {},
     "output_type": "display_data"
    }
   ],
   "source": [
    "data <- read.csv(\"sdg6_sanitation_pre_post.csv\")\n",
    "head(data)"
   ]
  },
  {
   "cell_type": "code",
   "execution_count": 9,
   "id": "8c33da07-b439-4147-b5d5-afac65bac3e4",
   "metadata": {},
   "outputs": [],
   "source": [
    "alpha_prior <- 1\n",
    "beta_prior <- 1"
   ]
  },
  {
   "cell_type": "code",
   "execution_count": 10,
   "id": "08cdfca8-55f5-484e-8ccf-2a605b0019ab",
   "metadata": {},
   "outputs": [],
   "source": [
    "data$Post_Alpha <- alpha_prior + data$Post_Improved_Sanitation\n",
    "data$Post_Beta <- beta_prior + (data$Sample_Size - data$Post_Improved_Sanitation)"
   ]
  },
  {
   "cell_type": "code",
   "execution_count": 11,
   "id": "6c82c03b-fa41-4f57-a198-8805bded594d",
   "metadata": {},
   "outputs": [],
   "source": [
    "set.seed(42)\n",
    "data$Prob_Above_70 <- sapply(1:nrow(data), function(i) {\n",
    "  samples <- rbeta(10000, data$Post_Alpha[i], data$Post_Beta[i])\n",
    "  mean(samples > 0.7)\n",
    "})"
   ]
  },
  {
   "cell_type": "code",
   "execution_count": 12,
   "id": "5389bb6b-34a6-4f52-9945-064d9bd4c40c",
   "metadata": {},
   "outputs": [
    {
     "data": {
      "image/png": "[encoded data removed]",
      "text/plain": [
       "Plot with title \"Posterior for Kenya\""
      ]
     },
     "metadata": {
      "image/png": {
       "height": 420,
       "width": 420
      }
     },
     "output_type": "display_data"
    }
   ],
   "source": [
    "samples <- rbeta(10000, data$Post_Alpha[1], data$Post_Beta[1])\n",
    "hist(samples, breaks = 50, col = \"skyblue\",\n",
    "     main = paste(\"Posterior for\", data$Country[1]),\n",
    "     xlab = \"Proportion with Improved Sanitation\")\n",
    "abline(v = 0.7, col = \"red\", lwd = 2)"
   ]
  },
  {
   "cell_type": "code",
   "execution_count": 13,
   "id": "b76ca7ba-5144-4395-bebf-9922ee7ddfba",
   "metadata": {},
   "outputs": [
    {
     "name": "stdout",
     "output_type": "stream",
     "text": [
      "      Country Post_Improved_Sanitation Prob_Above_70\n",
      "1       Kenya                       70        0.4786\n",
      "2      Uganda                       69        0.3897\n",
      "3    Tanzania                       69        0.3893\n",
      "4      Rwanda                       75        0.8504\n",
      "5    Ethiopia                       65        0.1258\n",
      "6       Nepal                       67        0.2388\n",
      "7  Bangladesh                       71        0.5664\n",
      "8    Cambodia                       75        0.8525\n",
      "9       Haiti                       70        0.4873\n",
      "10  Guatemala                       68        0.3092\n"
     ]
    }
   ],
   "source": [
    "summary_table <- data[c(\"Country\", \"Post_Improved_Sanitation\", \"Prob_Above_70\")]\n",
    "print(summary_table)"
   ]
  },
  {
   "cell_type": "code",
   "execution_count": null,
   "id": "0e419010-3ec0-4c8d-b43f-b0530d9eb7c3",
   "metadata": {},
   "outputs": [],
   "source": []
  },
  {
   "cell_type": "code",
   "execution_count": null,
   "id": "051f6dab-57e7-47ad-b502-ba0270341942",
   "metadata": {},
   "outputs": [],
   "source": []
  },
  {
   "cell_type": "code",
   "execution_count": null,
   "id": "6d8d9268-917a-45da-a122-6550c025ef2b",
   "metadata": {},
   "outputs": [],
   "source": []
  }
 ],
 "metadata": {
  "kernelspec": {
   "display_name": "R",
   "language": "R",
   "name": "ir"
  },
  "language_info": {
   "codemirror_mode": "r",
   "file_extension": ".r",
   "mimetype": "text/x-r-source",
   "name": "R",
   "pygments_lexer": "r",
   "version": "4.5.1"
  }
 },
 "nbformat": 4,
 "nbformat_minor": 5
}
