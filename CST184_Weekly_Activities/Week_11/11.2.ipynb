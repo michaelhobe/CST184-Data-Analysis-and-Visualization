{
 "cells": [
  {
   "cell_type": "code",
   "execution_count": 41,
   "id": "631f688c-e139-49ec-b711-b32d45a45921",
   "metadata": {},
   "outputs": [],
   "source": [
    "# Simulation settings\n",
    "supply_mean <- 70\n",
    "supply_sd <- 5\n",
    "demand_mean <- 40\n",
    "demand_sd <- 6"
   ]
  },
  {
   "cell_type": "code",
   "execution_count": 42,
   "id": "e4354f5a-2b05-4a36-8cb2-fe78e976fe91",
   "metadata": {},
   "outputs": [],
   "source": [
    "results <- replicate(1000, {\n",
    "  supply <- rnorm(30, mean = supply_mean, sd = supply_sd)\n",
    "  demand <- rnorm(30, mean = demand_mean, sd = demand_sd)\n",
    "  all(supply >= demand)\n",
    "})\n"
   ]
  },
  {
   "cell_type": "code",
   "execution_count": 43,
   "id": "5b02f915-0202-43c5-a3e4-0eab536fb2d0",
   "metadata": {},
   "outputs": [
    {
     "data": {
      "text/html": [
       "0.994"
      ],
      "text/latex": [
       "0.994"
      ],
      "text/markdown": [
       "0.994"
      ],
      "text/plain": [
       "[1] 0.994"
      ]
     },
     "metadata": {},
     "output_type": "display_data"
    }
   ],
   "source": [
    "mean(results)"
   ]
  },
  {
   "cell_type": "code",
   "execution_count": null,
   "id": "044b2c53-9523-42f4-91de-9a8e918d3b0a",
   "metadata": {},
   "outputs": [],
   "source": []
  }
 ],
 "metadata": {
  "kernelspec": {
   "display_name": "R",
   "language": "R",
   "name": "ir"
  },
  "language_info": {
   "codemirror_mode": "r",
   "file_extension": ".r",
   "mimetype": "text/x-r-source",
   "name": "R",
   "pygments_lexer": "r",
   "version": "4.5.1"
  }
 },
 "nbformat": 4,
 "nbformat_minor": 5
}
