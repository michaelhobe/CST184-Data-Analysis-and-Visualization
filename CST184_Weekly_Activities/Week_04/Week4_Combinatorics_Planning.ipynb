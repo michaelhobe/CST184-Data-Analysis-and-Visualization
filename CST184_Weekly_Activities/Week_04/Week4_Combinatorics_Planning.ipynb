{
 "cells": [
  {
   "cell_type": "code",
   "execution_count": 1,
   "id": "aa2fa67f-9436-4d09-847e-6d5eeff87903",
   "metadata": {},
   "outputs": [
    {
     "name": "stdout",
     "output_type": "stream",
     "text": [
      "Available strategies: ['Solar', 'Wind', 'Hydro', 'Geothermal', 'Biomass']\n",
      "\n",
      "Combinations (nCr):\n",
      "From 5 strategies, choosing 3 gives: 10\n",
      "\n",
      "Permutations (nPr):\n",
      "From 5 strategies, arranging 3 gives: 60\n",
      "\n",
      "All possible combinations of 3 strategies:\n",
      "('Solar', 'Wind', 'Hydro')\n",
      "('Solar', 'Wind', 'Geothermal')\n",
      "('Solar', 'Wind', 'Biomass')\n",
      "('Solar', 'Hydro', 'Geothermal')\n",
      "('Solar', 'Hydro', 'Biomass')\n",
      "('Solar', 'Geothermal', 'Biomass')\n",
      "('Wind', 'Hydro', 'Geothermal')\n",
      "('Wind', 'Hydro', 'Biomass')\n",
      "('Wind', 'Geothermal', 'Biomass')\n",
      "('Hydro', 'Geothermal', 'Biomass')\n",
      "\n",
      "Sample permutations of 3 strategies (first 5 only):\n",
      "('Solar', 'Wind', 'Hydro')\n",
      "('Solar', 'Wind', 'Geothermal')\n",
      "('Solar', 'Wind', 'Biomass')\n",
      "('Solar', 'Hydro', 'Wind')\n",
      "('Solar', 'Hydro', 'Geothermal')\n"
     ]
    }
   ],
   "source": [
    "\n",
    "# Week 4 – Combinatorics in Python\n",
    "\n",
    "import math\n",
    "from itertools import permutations, combinations\n",
    "\n",
    "# Step 1: Define energy strategies\n",
    "strategies = ['Solar', 'Wind', 'Hydro', 'Geothermal', 'Biomass']\n",
    "print(\"Available strategies:\", strategies)\n",
    "\n",
    "# Step 2: How many combinations of 3 strategies (order doesn't matter)?\n",
    "n = len(strategies)\n",
    "r = 3\n",
    "print(\"\\nCombinations (nCr):\")\n",
    "print(f\"From {n} strategies, choosing {r} gives:\", math.comb(n, r))\n",
    "\n",
    "# Step 3: How many permutations of 3 strategies (order matters)?\n",
    "print(\"\\nPermutations (nPr):\")\n",
    "print(f\"From {n} strategies, arranging {r} gives:\", math.perm(n, r))\n",
    "\n",
    "# Step 4: List all combinations\n",
    "print(\"\\nAll possible combinations of 3 strategies:\")\n",
    "for combo in combinations(strategies, r):\n",
    "    print(combo)\n",
    "\n",
    "# Step 5: List first 5 permutations\n",
    "print(\"\\nSample permutations of 3 strategies (first 5 only):\")\n",
    "for i, perm in enumerate(permutations(strategies, r)):\n",
    "    print(perm)\n",
    "    if i == 4:\n",
    "        break\n"
   ]
  },
  {
   "cell_type": "code",
   "execution_count": null,
   "id": "f81046f8-0d46-4d61-9b75-5143f2dbd561",
   "metadata": {},
   "outputs": [],
   "source": []
  }
 ],
 "metadata": {
  "kernelspec": {
   "display_name": "Python 3 (ipykernel)",
   "language": "python",
   "name": "python3"
  },
  "language_info": {
   "codemirror_mode": {
    "name": "ipython",
    "version": 3
   },
   "file_extension": ".py",
   "mimetype": "text/x-python",
   "name": "python",
   "nbconvert_exporter": "python",
   "pygments_lexer": "ipython3",
   "version": "3.12.0"
  }
 },
 "nbformat": 4,
 "nbformat_minor": 5
}
