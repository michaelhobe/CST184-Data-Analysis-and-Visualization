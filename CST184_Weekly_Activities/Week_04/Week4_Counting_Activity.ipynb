{
 "cells": [
  {
   "cell_type": "code",
   "execution_count": 1,
   "id": "68d9bc26-fa09-4554-abe7-1be5a7abc822",
   "metadata": {},
   "outputs": [
    {
     "name": "stdout",
     "output_type": "stream",
     "text": [
      "Step 1 – Factorial:\n",
      "5! = 120\n",
      "\n",
      "Step 2 – Permutations (nPr):\n",
      "Permutations of 5 items taken 3 at a time: 60\n",
      "\n",
      "Step 3 – Combinations (nCr):\n",
      "Combinations of 5 items taken 3 at a time: 10\n",
      "\n",
      "All 3-strategy combinations (unordered):\n",
      "('Solar', 'Wind', 'Hydro')\n",
      "('Solar', 'Wind', 'Geothermal')\n",
      "('Solar', 'Wind', 'Biomass')\n",
      "('Solar', 'Hydro', 'Geothermal')\n",
      "('Solar', 'Hydro', 'Biomass')\n",
      "('Solar', 'Geothermal', 'Biomass')\n",
      "('Wind', 'Hydro', 'Geothermal')\n",
      "('Wind', 'Hydro', 'Biomass')\n",
      "('Wind', 'Geothermal', 'Biomass')\n",
      "('Hydro', 'Geothermal', 'Biomass')\n",
      "\n",
      "All 3-strategy permutations (ordered):\n",
      "('Solar', 'Wind', 'Hydro')\n"
     ]
    }
   ],
   "source": [
    "\n",
    "# Week 4 – Counting Principles in Python\n",
    "\n",
    "import math\n",
    "from itertools import permutations, combinations\n",
    "\n",
    "# Step 1: Factorial – Total ways to arrange 5 strategies\n",
    "print(\"Step 1 – Factorial:\")\n",
    "print(\"5! =\", math.factorial(5))\n",
    "\n",
    "# Step 2: Permutations – How many ways to apply 3 out of 5 strategies (order matters)\n",
    "print(\"\\nStep 2 – Permutations (nPr):\")\n",
    "n, r = 5, 3\n",
    "perm_result = math.perm(n, r)  # Requires Python 3.8+\n",
    "print(f\"Permutations of {n} items taken {r} at a time: {perm_result}\")\n",
    "\n",
    "# Step 3: Combinations – How many ways to choose 3 strategies (order doesn't matter)\n",
    "print(\"\\nStep 3 – Combinations (nCr):\")\n",
    "comb_result = math.comb(n, r)\n",
    "print(f\"Combinations of {n} items taken {r} at a time: {comb_result}\")\n",
    "\n",
    "# Step 4: List actual combinations\n",
    "strategies = ['Solar', 'Wind', 'Hydro', 'Geothermal', 'Biomass']\n",
    "print(\"\\nAll 3-strategy combinations (unordered):\")\n",
    "for combo in combinations(strategies, 3):\n",
    "    print(combo)\n",
    "\n",
    "# Step 5: List actual permutations\n",
    "print(\"\\nAll 3-strategy permutations (ordered):\")\n",
    "for perm in permutations(strategies, 3):\n",
    "    print(perm)\n",
    "    break  # remove this line to view all permutations\n"
   ]
  },
  {
   "cell_type": "code",
   "execution_count": null,
   "id": "cee3ddff-630c-4314-bbfc-e067e3833294",
   "metadata": {},
   "outputs": [],
   "source": []
  }
 ],
 "metadata": {
  "kernelspec": {
   "display_name": "Python 3 (ipykernel)",
   "language": "python",
   "name": "python3"
  },
  "language_info": {
   "codemirror_mode": {
    "name": "ipython",
    "version": 3
   },
   "file_extension": ".py",
   "mimetype": "text/x-python",
   "name": "python",
   "nbconvert_exporter": "python",
   "pygments_lexer": "ipython3",
   "version": "3.12.0"
  }
 },
 "nbformat": 4,
 "nbformat_minor": 5
}
