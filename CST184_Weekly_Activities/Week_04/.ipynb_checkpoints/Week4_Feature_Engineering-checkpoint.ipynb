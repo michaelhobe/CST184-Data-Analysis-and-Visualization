{
 "cells": [
  {
   "cell_type": "code",
   "execution_count": 1,
   "id": "30608706-fde7-4fe8-8c0b-82304ecaf010",
   "metadata": {},
   "outputs": [
    {
     "name": "stdout",
     "output_type": "stream",
     "text": [
      "Engineered Feature Table:\n",
      "   region energy_type region_energy\n",
      "0    Asia       Solar    Asia_Solar\n",
      "1    Asia        Wind     Asia_Wind\n",
      "2    Asia       Hydro    Asia_Hydro\n",
      "3  Africa       Solar  Africa_Solar\n",
      "4  Africa        Wind   Africa_Wind\n",
      "5  Africa       Hydro  Africa_Hydro\n",
      "6  Europe       Solar  Europe_Solar\n",
      "7  Europe        Wind   Europe_Wind\n",
      "8  Europe       Hydro  Europe_Hydro\n"
     ]
    }
   ],
   "source": [
    "\n",
    "# Week 4 – Categorical Feature Engineering Activity\n",
    "\n",
    "import pandas as pd\n",
    "from itertools import product\n",
    "\n",
    "# Step 1: Define regions and energy types\n",
    "regions = ['Asia', 'Africa', 'Europe']\n",
    "energy_types = ['Solar', 'Wind', 'Hydro']\n",
    "\n",
    "# Step 2: Create Cartesian product (all region-energy combinations)\n",
    "combos = list(product(regions, energy_types))\n",
    "\n",
    "# Step 3: Create a DataFrame\n",
    "df = pd.DataFrame(combos, columns=['region', 'energy_type'])\n",
    "\n",
    "# Step 4: Create a combined feature\n",
    "df['region_energy'] = df['region'] + \"_\" + df['energy_type']\n",
    "\n",
    "# Step 5: Display the resulting DataFrame\n",
    "print(\"Engineered Feature Table:\")\n",
    "print(df)\n"
   ]
  },
  {
   "cell_type": "code",
   "execution_count": null,
   "id": "e2e4c842-4474-433b-ad2c-ef498b0b70c1",
   "metadata": {},
   "outputs": [],
   "source": []
  }
 ],
 "metadata": {
  "kernelspec": {
   "display_name": "Python 3 (ipykernel)",
   "language": "python",
   "name": "python3"
  },
  "language_info": {
   "codemirror_mode": {
    "name": "ipython",
    "version": 3
   },
   "file_extension": ".py",
   "mimetype": "text/x-python",
   "name": "python",
   "nbconvert_exporter": "python",
   "pygments_lexer": "ipython3",
   "version": "3.12.0"
  }
 },
 "nbformat": 4,
 "nbformat_minor": 5
}
