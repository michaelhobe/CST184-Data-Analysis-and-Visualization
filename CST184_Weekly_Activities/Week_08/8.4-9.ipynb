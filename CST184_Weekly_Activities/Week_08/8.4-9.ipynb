{
 "cells": [
  {
   "cell_type": "code",
   "execution_count": 20,
   "id": "935be5e6-28c6-42bf-8527-0c0419b433a6",
   "metadata": {},
   "outputs": [
    {
     "ename": "ERROR",
     "evalue": "Error in library(tidyr): there is no package called 'tidyr'\n",
     "output_type": "error",
     "traceback": [
      "Error in library(tidyr): there is no package called 'tidyr'\nTraceback:\n",
      "1. stop(packageNotFoundError(package, lib.loc, sys.call()))"
     ]
    }
   ],
   "source": [
    "\n",
    "\n",
    "library(tidyr)\n",
    "melted <- melt(cor_matrix)"
   ]
  },
  {
   "cell_type": "code",
   "execution_count": 21,
   "id": "897f65f0-f1e8-4c23-a07e-124322e63e9f",
   "metadata": {},
   "outputs": [
    {
     "name": "stderr",
     "output_type": "stream",
     "text": [
      "Installing package into 'C:/Users/micha/AppData/Local/R/win-library/4.5'\n",
      "(as 'lib' is unspecified)\n",
      "\n",
      "also installing the dependencies 'generics', 'R6', 'stringi', 'pkgconfig', 'withr', 'dplyr', 'magrittr', 'purrr', 'stringr', 'tibble', 'tidyselect', 'cpp11'\n",
      "\n",
      "\n"
     ]
    },
    {
     "name": "stdout",
     "output_type": "stream",
     "text": [
      "package 'generics' successfully unpacked and MD5 sums checked\n",
      "package 'R6' successfully unpacked and MD5 sums checked\n",
      "package 'stringi' successfully unpacked and MD5 sums checked\n",
      "package 'pkgconfig' successfully unpacked and MD5 sums checked\n",
      "package 'withr' successfully unpacked and MD5 sums checked\n",
      "package 'dplyr' successfully unpacked and MD5 sums checked\n",
      "package 'magrittr' successfully unpacked and MD5 sums checked\n",
      "package 'purrr' successfully unpacked and MD5 sums checked\n",
      "package 'stringr' successfully unpacked and MD5 sums checked\n",
      "package 'tibble' successfully unpacked and MD5 sums checked\n",
      "package 'tidyselect' successfully unpacked and MD5 sums checked\n",
      "package 'cpp11' successfully unpacked and MD5 sums checked\n",
      "package 'tidyr' successfully unpacked and MD5 sums checked\n",
      "\n",
      "The downloaded binary packages are in\n",
      "\tC:\\Users\\micha\\AppData\\Local\\Temp\\RtmpWezbaC\\downloaded_packages\n"
     ]
    }
   ],
   "source": [
    "install.packages(\"tidyr\")"
   ]
  },
  {
   "cell_type": "code",
   "execution_count": 26,
   "id": "3ec90be7-f934-433c-b5ec-d00318f40724",
   "metadata": {},
   "outputs": [],
   "source": [
    "library(tidyr)\n",
    "melted <- cor_matrix %>% as.data.frame() %>% pivot_longer(everything())"
   ]
  },
  {
   "cell_type": "code",
   "execution_count": 29,
   "id": "2403e432-ed5e-4b0b-bd38-80fc96746008",
   "metadata": {},
   "outputs": [
    {
     "name": "stderr",
     "output_type": "stream",
     "text": [
      "Installing package into 'C:/Users/micha/AppData/Local/R/win-library/4.5'\n",
      "(as 'lib' is unspecified)\n",
      "\n",
      "also installing the dependencies 'farver', 'labeling', 'RColorBrewer', 'viridisLite', 'gtable', 'isoband', 'scales'\n",
      "\n",
      "\n"
     ]
    },
    {
     "name": "stdout",
     "output_type": "stream",
     "text": [
      "package 'farver' successfully unpacked and MD5 sums checked\n",
      "package 'labeling' successfully unpacked and MD5 sums checked\n",
      "package 'RColorBrewer' successfully unpacked and MD5 sums checked\n",
      "package 'viridisLite' successfully unpacked and MD5 sums checked\n",
      "package 'gtable' successfully unpacked and MD5 sums checked\n",
      "package 'isoband' successfully unpacked and MD5 sums checked\n",
      "package 'scales' successfully unpacked and MD5 sums checked\n",
      "package 'ggplot2' successfully unpacked and MD5 sums checked\n",
      "\n",
      "The downloaded binary packages are in\n",
      "\tC:\\Users\\micha\\AppData\\Local\\Temp\\RtmpWezbaC\\downloaded_packages\n"
     ]
    }
   ],
   "source": [
    "install.packages(\"ggplot2\")"
   ]
  },
  {
   "cell_type": "code",
   "execution_count": 42,
   "id": "9cda677d-e09a-489f-9ffe-01801fa5a585",
   "metadata": {},
   "outputs": [
    {
     "data": {
      "image/png": "[encoded data removed]",
      "text/plain": [
       "plot without title"
      ]
     },
     "metadata": {
      "image/png": {
       "height": 420,
       "width": 420
      }
     },
     "output_type": "display_data"
    }
   ],
   "source": [
    "library(ggplot2)\n",
    "\n",
    "ggplot(melted, aes(x = Var1, y = Var2, fill = value)) +\n",
    "  geom_tile() +\n",
    "  scale_fill_gradient2(low = \"blue\", high = \"red\", mid = \"white\", midpoint = 0) +\n",
    "  theme_minimal()\n",
    "#What it does:\n",
    "\n",
    "#geom_tile() draws the heatmap grid\n",
    "#scale_fill_gradient2() uses red for positive, blue for negative, and white for near zero\n",
    "#theme_minimal() keeps the design clean and readable"
   ]
  },
  {
   "cell_type": "code",
   "execution_count": 31,
   "id": "f20ca0e4-ace9-44be-a1f0-43fb3ae5b208",
   "metadata": {},
   "outputs": [
    {
     "name": "stderr",
     "output_type": "stream",
     "text": [
      "Installing package into 'C:/Users/micha/AppData/Local/R/win-library/4.5'\n",
      "(as 'lib' is unspecified)\n",
      "\n",
      "also installing the dependencies 'plyr', 'Rcpp'\n",
      "\n",
      "\n"
     ]
    },
    {
     "name": "stdout",
     "output_type": "stream",
     "text": [
      "package 'plyr' successfully unpacked and MD5 sums checked\n",
      "package 'Rcpp' successfully unpacked and MD5 sums checked\n",
      "package 'reshape2' successfully unpacked and MD5 sums checked\n",
      "\n",
      "The downloaded binary packages are in\n",
      "\tC:\\Users\\micha\\AppData\\Local\\Temp\\RtmpWezbaC\\downloaded_packages\n"
     ]
    }
   ],
   "source": [
    "install.packages(\"reshape2\")"
   ]
  },
  {
   "cell_type": "code",
   "execution_count": 32,
   "id": "392afbb2-1649-4b25-a426-37aa1757a73c",
   "metadata": {},
   "outputs": [
    {
     "name": "stderr",
     "output_type": "stream",
     "text": [
      "\n",
      "Attaching package: 'reshape2'\n",
      "\n",
      "\n",
      "The following object is masked from 'package:tidyr':\n",
      "\n",
      "    smiths\n",
      "\n",
      "\n"
     ]
    }
   ],
   "source": [
    "library(reshape2)\n",
    "melted <- melt(cor_matrix)"
   ]
  },
  {
   "cell_type": "code",
   "execution_count": 33,
   "id": "cb44ae8b-ad48-4d64-b0a2-891dac3f74df",
   "metadata": {},
   "outputs": [
    {
     "data": {
      "image/png": "[encoded data removed]",
      "text/plain": [
       "plot without title"
      ]
     },
     "metadata": {
      "image/png": {
       "height": 420,
       "width": 420
      }
     },
     "output_type": "display_data"
    }
   ],
   "source": [
    "library(ggplot2)\n",
    "\n",
    "ggplot(melted, aes(x = Var1, y = Var2, fill = value)) +\n",
    "  geom_tile() +\n",
    "  scale_fill_gradient2(low = \"blue\", high = \"red\", mid = \"white\", midpoint = 0) +\n",
    "  theme_minimal()\n",
    "#What it does:\n",
    "\n",
    "#geom_tile() draws the heatmap grid\n",
    "#scale_fill_gradient2() uses red for positive, blue for negative, and white for near zero\n",
    "#theme_minimal() keeps the design clean and readable\n",
    "\n",
    "#Use labs() to add labels or titles\n",
    "#Add coord_fixed() to keep cells square\n",
    "#Ensure your correlation matrix has row/column names before melting\n",
    "#This makes the final plot easier to read and interpret."
   ]
  },
  {
   "cell_type": "code",
   "execution_count": 35,
   "id": "6b0497e3-aa7c-482d-ab0f-87ac1db39862",
   "metadata": {},
   "outputs": [
    {
     "data": {
      "image/png": "[encoded data removed]",
      "text/plain": [
       "plot without title"
      ]
     },
     "metadata": {
      "image/png": {
       "height": 420,
       "width": 420
      }
     },
     "output_type": "display_data"
    }
   ],
   "source": [
    "#Try this on your climate correlation matrix:\n",
    "\n",
    "library(reshape2)\n",
    "library(ggplot2)\n",
    "\n",
    "melted <- melt(cor_matrix)\n",
    "\n",
    "ggplot(melted, aes(Var1, Var2, fill = value)) +\n",
    "  geom_tile() +\n",
    "  scale_fill_gradient2(low = \"green\", high = \"red\", mid = \"white\", midpoint = 0) +\n",
    "  theme_minimal()\n",
    "#Try modifying:\n",
    "\n",
    "#The color gradient midpoint\n",
    "#The theme (e.g., theme_bw())\n",
    "#The order of rows/columns to highlight clusters"
   ]
  },
  {
   "cell_type": "code",
   "execution_count": null,
   "id": "f93a0ca5-0e5e-4dd0-b026-f03514e3e388",
   "metadata": {},
   "outputs": [],
   "source": [
    "#✅ Heatmaps turn matrix data into visual patterns\n",
    "#✅ melt() prepares matrices for plotting\n",
    "#✅ geom_tile() builds the visual grid\n",
    "#✅ ggplot2 makes your data more accessible"
   ]
  },
  {
   "cell_type": "code",
   "execution_count": 36,
   "id": "7dd25096-3689-47d7-a98b-98a352de751a",
   "metadata": {},
   "outputs": [],
   "source": [
    "climate <- matrix(c(\n",
    "  9.2, 1.1, 0.8,\n",
    "  6.5, 0.9, 1.2,\n",
    "  2.3, 0.7, 2.5,\n",
    "  3.8, 1.0, 1.5,\n",
    "  7.1, 1.2, 0.9\n",
    "), nrow=5, byrow=TRUE)\n",
    "\n",
    "colnames(climate) <- c(\"CO2\", \"Temp\", \"Deforestation\")\n",
    "rownames(climate) <- c(\"A\", \"B\", \"C\", \"D\", \"E\")\n",
    "\n",
    "scaled_climate <- scale(climate)\n"
   ]
  },
  {
   "cell_type": "code",
   "execution_count": 37,
   "id": "35d6a37b-dbfa-4627-993c-c9e218d2d077",
   "metadata": {},
   "outputs": [
    {
     "name": "stdout",
     "output_type": "stream",
     "text": [
      "                     CO2       Temp Deforestation\n",
      "CO2            1.0000000  0.7490355    -0.9195016\n",
      "Temp           0.7490355  1.0000000    -0.8976824\n",
      "Deforestation -0.9195016 -0.8976824     1.0000000\n"
     ]
    }
   ],
   "source": [
    "cor_matrix <- cor(scaled_climate)\n",
    "print(cor_matrix)"
   ]
  },
  {
   "cell_type": "code",
   "execution_count": 38,
   "id": "41c8ca49-bfa7-427e-9739-f0aea7e95098",
   "metadata": {},
   "outputs": [
    {
     "data": {
      "text/html": [
       "<table class=\"dataframe\">\n",
       "<caption>A data.frame: 6 × 3</caption>\n",
       "<thead>\n",
       "\t<tr><th></th><th scope=col>Var1</th><th scope=col>Var2</th><th scope=col>value</th></tr>\n",
       "\t<tr><th></th><th scope=col>&lt;fct&gt;</th><th scope=col>&lt;fct&gt;</th><th scope=col>&lt;dbl&gt;</th></tr>\n",
       "</thead>\n",
       "<tbody>\n",
       "\t<tr><th scope=row>1</th><td>CO2          </td><td>CO2 </td><td> 1.0000000</td></tr>\n",
       "\t<tr><th scope=row>2</th><td>Temp         </td><td>CO2 </td><td> 0.7490355</td></tr>\n",
       "\t<tr><th scope=row>3</th><td>Deforestation</td><td>CO2 </td><td>-0.9195016</td></tr>\n",
       "\t<tr><th scope=row>4</th><td>CO2          </td><td>Temp</td><td> 0.7490355</td></tr>\n",
       "\t<tr><th scope=row>5</th><td>Temp         </td><td>Temp</td><td> 1.0000000</td></tr>\n",
       "\t<tr><th scope=row>6</th><td>Deforestation</td><td>Temp</td><td>-0.8976824</td></tr>\n",
       "</tbody>\n",
       "</table>\n"
      ],
      "text/latex": [
       "A data.frame: 6 × 3\n",
       "\\begin{tabular}{r|lll}\n",
       "  & Var1 & Var2 & value\\\\\n",
       "  & <fct> & <fct> & <dbl>\\\\\n",
       "\\hline\n",
       "\t1 & CO2           & CO2  &  1.0000000\\\\\n",
       "\t2 & Temp          & CO2  &  0.7490355\\\\\n",
       "\t3 & Deforestation & CO2  & -0.9195016\\\\\n",
       "\t4 & CO2           & Temp &  0.7490355\\\\\n",
       "\t5 & Temp          & Temp &  1.0000000\\\\\n",
       "\t6 & Deforestation & Temp & -0.8976824\\\\\n",
       "\\end{tabular}\n"
      ],
      "text/markdown": [
       "\n",
       "A data.frame: 6 × 3\n",
       "\n",
       "| <!--/--> | Var1 &lt;fct&gt; | Var2 &lt;fct&gt; | value &lt;dbl&gt; |\n",
       "|---|---|---|---|\n",
       "| 1 | CO2           | CO2  |  1.0000000 |\n",
       "| 2 | Temp          | CO2  |  0.7490355 |\n",
       "| 3 | Deforestation | CO2  | -0.9195016 |\n",
       "| 4 | CO2           | Temp |  0.7490355 |\n",
       "| 5 | Temp          | Temp |  1.0000000 |\n",
       "| 6 | Deforestation | Temp | -0.8976824 |\n",
       "\n"
      ],
      "text/plain": [
       "  Var1          Var2 value     \n",
       "1 CO2           CO2   1.0000000\n",
       "2 Temp          CO2   0.7490355\n",
       "3 Deforestation CO2  -0.9195016\n",
       "4 CO2           Temp  0.7490355\n",
       "5 Temp          Temp  1.0000000\n",
       "6 Deforestation Temp -0.8976824"
      ]
     },
     "metadata": {},
     "output_type": "display_data"
    }
   ],
   "source": [
    "#Now melt the matrix using reshape2:\n",
    "\n",
    "\n",
    "library(reshape2)\n",
    "\n",
    "melted <- melt(cor_matrix)\n",
    "head(melted)\n",
    "#This creates a long-format data frame where each row is a variable pair and correlation value.\n",
    "\n"
   ]
  },
  {
   "cell_type": "code",
   "execution_count": 40,
   "id": "97737ffb-e7fb-4122-9c20-f8eb8fba4151",
   "metadata": {},
   "outputs": [
    {
     "data": {
      "image/png": "[encoded data removed]",
      "text/plain": [
       "plot without title"
      ]
     },
     "metadata": {
      "image/png": {
       "height": 420,
       "width": 420
      }
     },
     "output_type": "display_data"
    }
   ],
   "source": [
    "#Now plot using ggplot2:\n",
    "\n",
    "library(ggplot2)\n",
    "\n",
    "ggplot(melted, aes(x = Var1, y = Var2, fill = value)) +\n",
    "  geom_tile() +\n",
    "  scale_fill_gradient2(low = \"blue\", high = \"red\", mid = \"white\", midpoint = 0) +\n",
    "  theme_minimal() +\n",
    "  labs(title = \"Correlation Heatmap - Climate Indicators\",\n",
    "       fill = \"Correlation\")\n",
    "#This will produce a 3×3 heatmap showing positive (red), negative (blue), and neutral (white) relationships."
   ]
  },
  {
   "cell_type": "code",
   "execution_count": 41,
   "id": "7638f1a1-9176-431c-9c03-37fc54a59a33",
   "metadata": {},
   "outputs": [
    {
     "data": {
      "image/png": "[encoded data removed]",
      "text/plain": [
       "plot without title"
      ]
     },
     "metadata": {
      "image/png": {
       "height": 420,
       "width": 420
      }
     },
     "output_type": "display_data"
    }
   ],
   "source": [
    "# Modify row 3 (Country C)\n",
    "climate[3, ] <- c(2.3, 0.7, 3.2)  # higher deforestation\n",
    "\n",
    "# Re-scale and re-plot\n",
    "scaled_climate <- scale(climate)\n",
    "cor_matrix <- cor(scaled_climate)\n",
    "melted <- melt(cor_matrix)\n",
    "\n",
    "ggplot(melted, aes(x = Var1, y = Var2, fill = value)) +\n",
    "  geom_tile() +\n",
    "  scale_fill_gradient2(low = \"blue\", high = \"red\", mid = \"white\", midpoint = 0) +\n",
    "  theme_minimal()"
   ]
  },
  {
   "cell_type": "code",
   "execution_count": null,
   "id": "64fc985f-99ab-4dfb-9e99-1549d219dd14",
   "metadata": {},
   "outputs": [],
   "source": [
    "#✅ You computed a correlation matrix from standardized data\n",
    "#✅ You reshaped the matrix using melt()\n",
    "#✅ You created a color-coded heatmap with ggplot2\n",
    "#✅ You practiced interpreting and modifying patterns visually"
   ]
  },
  {
   "cell_type": "code",
   "execution_count": null,
   "id": "370e50b9-698d-4ff3-abe6-fa745dfe031a",
   "metadata": {},
   "outputs": [],
   "source": []
  }
 ],
 "metadata": {
  "kernelspec": {
   "display_name": "R",
   "language": "R",
   "name": "ir"
  },
  "language_info": {
   "codemirror_mode": "r",
   "file_extension": ".r",
   "mimetype": "text/x-r-source",
   "name": "R",
   "pygments_lexer": "r",
   "version": "4.5.1"
  }
 },
 "nbformat": 4,
 "nbformat_minor": 5
}
