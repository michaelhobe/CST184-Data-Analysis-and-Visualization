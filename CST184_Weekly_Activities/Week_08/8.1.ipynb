{
 "cells": [
  {
   "cell_type": "code",
   "execution_count": 12,
   "id": "11dfec48-21dc-4ace-ad46-cc5110b13601",
   "metadata": {},
   "outputs": [
    {
     "name": "stdout",
     "output_type": "stream",
     "text": [
      "[1]  5 10 15 20 25\n"
     ]
    }
   ],
   "source": [
    "# Create a vector\n",
    "v <- c(5, 10, 15, 20, 25)\n",
    "print(v)\n",
    "\n",
    "#added one"
   ]
  },
  {
   "cell_type": "code",
   "execution_count": 13,
   "id": "99810688-ec44-47ef-9068-e08a6c8dc655",
   "metadata": {},
   "outputs": [
    {
     "name": "stdout",
     "output_type": "stream",
     "text": [
      "     [,1] [,2] [,3]\n",
      "[1,]    1    3    5\n",
      "[2,]    2    4    6\n"
     ]
    }
   ],
   "source": [
    "m <- matrix(1:6, nrow=2, ncol=3) \n",
    "print(m)"
   ]
  },
  {
   "cell_type": "code",
   "execution_count": 14,
   "id": "2228660e-f149-47d2-b5e9-96bc1c9ddd54",
   "metadata": {},
   "outputs": [
    {
     "data": {
      "text/html": [
       "6"
      ],
      "text/latex": [
       "6"
      ],
      "text/markdown": [
       "6"
      ],
      "text/plain": [
       "[1] 6"
      ]
     },
     "metadata": {},
     "output_type": "display_data"
    }
   ],
   "source": [
    "m[2, 3]"
   ]
  },
  {
   "cell_type": "code",
   "execution_count": 15,
   "id": "48b45289-3bf3-49a8-8223-e93f18aca812",
   "metadata": {},
   "outputs": [
    {
     "name": "stdout",
     "output_type": "stream",
     "text": [
      "     [,1] [,2] [,3]\n",
      "[1,]    1   99    5\n",
      "[2,]    2    4    6\n"
     ]
    }
   ],
   "source": [
    "m[1, 2] <- 99\n",
    "print(m)"
   ]
  },
  {
   "cell_type": "code",
   "execution_count": 16,
   "id": "517a8fdd-3d8e-4b55-bc46-d35df7625cb5",
   "metadata": {},
   "outputs": [
    {
     "name": "stdout",
     "output_type": "stream",
     "text": [
      "     [,1] [,2]\n",
      "[1,]    2   10\n",
      "[2,]    4   14\n"
     ]
    }
   ],
   "source": [
    "#Create two small 2x2 matrices and multiply them:\n",
    "\n",
    "a <- matrix(c(1, 2, 3, 4), nrow=2)\n",
    "b <- matrix(c(2, 0, 1, 3), nrow=2)\n",
    "\n",
    "result <- a %*% b\n",
    "print(result)"
   ]
  },
  {
   "cell_type": "code",
   "execution_count": null,
   "id": "0b67ad83-1820-4c42-8e4e-1c277d3a3a31",
   "metadata": {},
   "outputs": [],
   "source": []
  }
 ],
 "metadata": {
  "kernelspec": {
   "display_name": "R",
   "language": "R",
   "name": "ir"
  },
  "language_info": {
   "codemirror_mode": "r",
   "file_extension": ".r",
   "mimetype": "text/x-r-source",
   "name": "R",
   "pygments_lexer": "r",
   "version": "4.5.1"
  }
 },
 "nbformat": 4,
 "nbformat_minor": 5
}
