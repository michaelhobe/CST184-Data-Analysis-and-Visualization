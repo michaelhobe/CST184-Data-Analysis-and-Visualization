{
 "cells": [
  {
   "cell_type": "code",
   "execution_count": 10,
   "id": "57bc13e3-b8b8-44e5-bf51-b7fe6cd2ffc8",
   "metadata": {},
   "outputs": [
    {
     "name": "stdout",
     "output_type": "stream",
     "text": [
      "                     CO2       Temp Deforestation\n",
      "CO2            1.0000000  0.7490355    -0.9195016\n",
      "Temp           0.7490355  1.0000000    -0.8976824\n",
      "Deforestation -0.9195016 -0.8976824     1.0000000\n"
     ]
    }
   ],
   "source": [
    "#8.3.3 How to Compute a Correlation Matrix in R\n",
    "#Use the cor() function in R:\n",
    "\n",
    "cor_matrix <- cor(scaled_climate)\n",
    "print(cor_matrix)\n",
    "#Make sure to standardize your data first using scale(), especially if your variables are on different scales."
   ]
  },
  {
   "cell_type": "code",
   "execution_count": 11,
   "id": "4e8366f7-15e4-4653-8084-1244385e5c5b",
   "metadata": {},
   "outputs": [
    {
     "name": "stdout",
     "output_type": "stream",
     "text": [
      "                     CO2       Temp Deforestation\n",
      "CO2            1.0000000  0.7490355    -0.9195016\n",
      "Temp           0.7490355  1.0000000    -0.8976824\n",
      "Deforestation -0.9195016 -0.8976824     1.0000000\n"
     ]
    }
   ],
   "source": [
    "#Try this in your notebook using the climate matrix from the previous activity:\n",
    "\n",
    "scaled <- scale(climate)\n",
    "cor_matrix <- cor(scaled)\n",
    "print(cor_matrix)\n",
    "#Prompt: Which variables are most positively correlated? Which are most negatively correlated? What might this tell us about climate patterns?"
   ]
  },
  {
   "cell_type": "code",
   "execution_count": 12,
   "id": "4688f9f8-778b-4dc4-9bbd-209522486f79",
   "metadata": {},
   "outputs": [
    {
     "name": "stdout",
     "output_type": "stream",
     "text": [
      "  CO2 Temp Deforestation\n",
      "A 9.2  1.1           0.8\n",
      "B 6.5  0.9           1.2\n",
      "C 2.3  0.7           2.5\n",
      "D 3.8  1.0           1.5\n",
      "E 7.1  1.2           0.9\n"
     ]
    }
   ],
   "source": [
    "#Use the matrix from earlier (or re-create it here):\n",
    "\n",
    "climate <- matrix(c(\n",
    "  9.2, 1.1, 0.8,\n",
    "  6.5, 0.9, 1.2,\n",
    "  2.3, 0.7, 2.5,\n",
    "  3.8, 1.0, 1.5,\n",
    "  7.1, 1.2, 0.9\n",
    "), nrow=5, byrow=TRUE)\n",
    "\n",
    "colnames(climate) <- c(\"CO2\", \"Temp\", \"Deforestation\")\n",
    "rownames(climate) <- c(\"A\", \"B\", \"C\", \"D\", \"E\")\n",
    "\n",
    "print(climate)\n",
    "#This matrix represents data from five countries. Each column is a variable."
   ]
  },
  {
   "cell_type": "code",
   "execution_count": 13,
   "id": "b75a6326-922a-4569-9461-a89843f05fa5",
   "metadata": {},
   "outputs": [
    {
     "name": "stdout",
     "output_type": "stream",
     "text": [
      "         CO2       Temp Deforestation\n",
      "A  1.2490573  0.6238503    -0.8487300\n",
      "B  0.2629594 -0.4159002    -0.2633990\n",
      "C -1.2709706 -1.4556507     1.6389269\n",
      "D -0.7231384  0.1039750     0.1755993\n",
      "E  0.4820923  1.1437255    -0.7023972\n",
      "attr(,\"scaled:center\")\n",
      "          CO2          Temp Deforestation \n",
      "         5.78          0.98          1.38 \n",
      "attr(,\"scaled:scale\")\n",
      "          CO2          Temp Deforestation \n",
      "    2.7380650     0.1923538     0.6833740 \n"
     ]
    }
   ],
   "source": [
    "scaled_climate <- scale(climate)\n",
    "print(scaled_climate)"
   ]
  },
  {
   "cell_type": "code",
   "execution_count": 14,
   "id": "1ac30945-2e9e-4985-b5f7-e9b9844c0f93",
   "metadata": {},
   "outputs": [
    {
     "name": "stdout",
     "output_type": "stream",
     "text": [
      "                     CO2       Temp Deforestation\n",
      "CO2            1.0000000  0.8327314    -0.9443520\n",
      "Temp           0.8327314  1.0000000    -0.8983852\n",
      "Deforestation -0.9443520 -0.8983852     1.0000000\n"
     ]
    }
   ],
   "source": [
    "#Try adding a sixth country with the following values:\n",
    "\n",
    "climate <- rbind(climate, c(10.0, 1.5, 0.4))\n",
    "rownames(climate)[6] <- \"F\"\n",
    "\n",
    "scaled_climate <- scale(climate)\n",
    "cor_matrix <- cor(scaled_climate)\n",
    "print(cor_matrix)\n",
    "#🧠 What changed? Did the correlations get stronger, weaker, or flip direction? Why?"
   ]
  },
  {
   "cell_type": "code",
   "execution_count": null,
   "id": "604dc35d-7a80-40ec-be19-d0c39e8bc969",
   "metadata": {},
   "outputs": [],
   "source": []
  }
 ],
 "metadata": {
  "kernelspec": {
   "display_name": "R",
   "language": "R",
   "name": "ir"
  },
  "language_info": {
   "codemirror_mode": "r",
   "file_extension": ".r",
   "mimetype": "text/x-r-source",
   "name": "R",
   "pygments_lexer": "r",
   "version": "4.5.1"
  }
 },
 "nbformat": 4,
 "nbformat_minor": 5
}
