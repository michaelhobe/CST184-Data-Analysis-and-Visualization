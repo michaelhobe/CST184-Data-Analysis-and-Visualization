{
 "cells": [
  {
   "cell_type": "code",
   "execution_count": 45,
   "id": "b286f385-539a-4759-9ef4-b4c944a2c733",
   "metadata": {},
   "outputs": [
    {
     "name": "stdout",
     "output_type": "stream",
     "text": [
      "  CO2 Temp Deforestation Renewables\n",
      "A 9.2  1.1           0.8         15\n",
      "B 6.5  0.9           1.2         30\n",
      "C 2.3  0.7           2.5         60\n",
      "D 3.8  1.0           1.5         45\n",
      "E 7.1  1.2           0.9         25\n",
      "F 4.2  1.0           2.1         50\n"
     ]
    }
   ],
   "source": [
    "climate <- matrix(c(\n",
    "  9.2, 1.1, 0.8, 15,\n",
    "  6.5, 0.9, 1.2, 30,\n",
    "  2.3, 0.7, 2.5, 60,\n",
    "  3.8, 1.0, 1.5, 45,\n",
    "  7.1, 1.2, 0.9, 25,\n",
    "  4.2, 1.0, 2.1, 50\n",
    "), nrow = 6, byrow = TRUE)\n",
    "\n",
    "colnames(climate) <- c(\"CO2\", \"Temp\", \"Deforestation\", \"Renewables\")\n",
    "rownames(climate) <- c(\"A\", \"B\", \"C\", \"D\", \"E\", \"F\")\n",
    "\n",
    "print(climate)\n",
    "#This matrix simulates six countries' environmental data."
   ]
  },
  {
   "cell_type": "code",
   "execution_count": 46,
   "id": "d05bed79-f115-4f2e-97db-55aba9727e39",
   "metadata": {},
   "outputs": [
    {
     "name": "stdout",
     "output_type": "stream",
     "text": [
      "         CO2        Temp Deforestation Renewables\n",
      "A  1.4544133  0.67734887    -1.0320937 -1.3269776\n",
      "B  0.3882823 -0.48382062    -0.4423259 -0.4423259\n",
      "C -1.2701437 -1.64499012     1.4744196  1.3269776\n",
      "D -0.6778487  0.09676412     0.0000000  0.4423259\n",
      "E  0.6252003  1.25793362    -0.8846517 -0.7372098\n",
      "F -0.5199034  0.09676412     0.8846517  0.7372098\n",
      "attr(,\"scaled:center\")\n",
      "          CO2          Temp Deforestation    Renewables \n",
      "    5.5166667     0.9833333     1.5000000    37.5000000 \n",
      "attr(,\"scaled:scale\")\n",
      "          CO2          Temp Deforestation    Renewables \n",
      "    2.5325218     0.1722401     0.6782330    16.9558250 \n"
     ]
    }
   ],
   "source": [
    "#Scale the matrix so all variables have mean 0 and standard deviation 1.\n",
    "\n",
    "scaled_climate <- scale(climate)\n",
    "print(scaled_climate)\n",
    "#🧠 Prompt: Why is scaling important before computing correlation?"
   ]
  },
  {
   "cell_type": "code",
   "execution_count": 47,
   "id": "35edca50-3bfd-49e5-b4f8-edb37c3eba05",
   "metadata": {},
   "outputs": [
    {
     "name": "stdout",
     "output_type": "stream",
     "text": [
      "                CO2  Temp Deforestation Renewables\n",
      "CO2            1.00  0.71         -0.91      -0.99\n",
      "Temp           0.71  1.00         -0.79      -0.74\n",
      "Deforestation -0.91 -0.79          1.00       0.97\n",
      "Renewables    -0.99 -0.74          0.97       1.00\n"
     ]
    }
   ],
   "source": [
    "cor_matrix <- cor(scaled_climate)\n",
    "print(round(cor_matrix, 2))\n",
    "#You're now looking at the relationship between all environmental indicators across countries."
   ]
  },
  {
   "cell_type": "code",
   "execution_count": 48,
   "id": "9066ce3b-2911-46b6-9680-0faeab7cc7bf",
   "metadata": {},
   "outputs": [
    {
     "name": "stderr",
     "output_type": "stream",
     "text": [
      "Warning message:\n",
      "\"package 'reshape2' is in use and will not be installed\"\n"
     ]
    },
    {
     "data": {
      "text/html": [
       "<table class=\"dataframe\">\n",
       "<caption>A data.frame: 6 × 3</caption>\n",
       "<thead>\n",
       "\t<tr><th></th><th scope=col>Var1</th><th scope=col>Var2</th><th scope=col>value</th></tr>\n",
       "\t<tr><th></th><th scope=col>&lt;fct&gt;</th><th scope=col>&lt;fct&gt;</th><th scope=col>&lt;dbl&gt;</th></tr>\n",
       "</thead>\n",
       "<tbody>\n",
       "\t<tr><th scope=row>1</th><td>CO2          </td><td>CO2 </td><td> 1.0000000</td></tr>\n",
       "\t<tr><th scope=row>2</th><td>Temp         </td><td>CO2 </td><td> 0.7114442</td></tr>\n",
       "\t<tr><th scope=row>3</th><td>Deforestation</td><td>CO2 </td><td>-0.9117162</td></tr>\n",
       "\t<tr><th scope=row>4</th><td>Renewables   </td><td>CO2 </td><td>-0.9862370</td></tr>\n",
       "\t<tr><th scope=row>5</th><td>CO2          </td><td>Temp</td><td> 0.7114442</td></tr>\n",
       "\t<tr><th scope=row>6</th><td>Temp         </td><td>Temp</td><td> 1.0000000</td></tr>\n",
       "</tbody>\n",
       "</table>\n"
      ],
      "text/latex": [
       "A data.frame: 6 × 3\n",
       "\\begin{tabular}{r|lll}\n",
       "  & Var1 & Var2 & value\\\\\n",
       "  & <fct> & <fct> & <dbl>\\\\\n",
       "\\hline\n",
       "\t1 & CO2           & CO2  &  1.0000000\\\\\n",
       "\t2 & Temp          & CO2  &  0.7114442\\\\\n",
       "\t3 & Deforestation & CO2  & -0.9117162\\\\\n",
       "\t4 & Renewables    & CO2  & -0.9862370\\\\\n",
       "\t5 & CO2           & Temp &  0.7114442\\\\\n",
       "\t6 & Temp          & Temp &  1.0000000\\\\\n",
       "\\end{tabular}\n"
      ],
      "text/markdown": [
       "\n",
       "A data.frame: 6 × 3\n",
       "\n",
       "| <!--/--> | Var1 &lt;fct&gt; | Var2 &lt;fct&gt; | value &lt;dbl&gt; |\n",
       "|---|---|---|---|\n",
       "| 1 | CO2           | CO2  |  1.0000000 |\n",
       "| 2 | Temp          | CO2  |  0.7114442 |\n",
       "| 3 | Deforestation | CO2  | -0.9117162 |\n",
       "| 4 | Renewables    | CO2  | -0.9862370 |\n",
       "| 5 | CO2           | Temp |  0.7114442 |\n",
       "| 6 | Temp          | Temp |  1.0000000 |\n",
       "\n"
      ],
      "text/plain": [
       "  Var1          Var2 value     \n",
       "1 CO2           CO2   1.0000000\n",
       "2 Temp          CO2   0.7114442\n",
       "3 Deforestation CO2  -0.9117162\n",
       "4 Renewables    CO2  -0.9862370\n",
       "5 CO2           Temp  0.7114442\n",
       "6 Temp          Temp  1.0000000"
      ]
     },
     "metadata": {},
     "output_type": "display_data"
    }
   ],
   "source": [
    "install.packages(\"reshape2\")  # run only once\n",
    "library(reshape2)\n",
    "\n",
    "melted <- melt(cor_matrix)\n",
    "head(melted)\n",
    "#This reformats your correlation matrix into long format for ggplot2."
   ]
  },
  {
   "cell_type": "code",
   "execution_count": 49,
   "id": "6cf1e3d6-063f-4b10-8d90-a0df4128dcff",
   "metadata": {},
   "outputs": [
    {
     "name": "stderr",
     "output_type": "stream",
     "text": [
      "Warning message:\n",
      "\"package 'ggplot2' is in use and will not be installed\"\n"
     ]
    }
   ],
   "source": [
    "#This is a polished, high-quality heatmap with visual appeal:\n",
    "\n",
    "install.packages(\"ggplot2\")  # run only once\n",
    "library(ggplot2)"
   ]
  },
  {
   "cell_type": "code",
   "execution_count": 50,
   "id": "86969134-a5bb-4d09-943d-6cb43acbc028",
   "metadata": {},
   "outputs": [
    {
     "data": {
      "image/png": "[encoded data removed]",
      "text/plain": [
       "plot without title"
      ]
     },
     "metadata": {
      "image/png": {
       "height": 420,
       "width": 420
      }
     },
     "output_type": "display_data"
    }
   ],
   "source": [
    "library(ggplot2)\n",
    "\n",
    "ggplot(melted, aes(x = Var1, y = Var2, fill = value)) +\n",
    "  geom_tile(color = \"white\", linewidth = 0.5) +\n",
    "  scale_fill_gradient2(\n",
    "    low = \"steelblue\",\n",
    "    high = \"firebrick\",\n",
    "    mid = \"white\",\n",
    "    midpoint = 0,\n",
    "    limit = c(-1, 1),\n",
    "    name = \"Correlation\"\n",
    "  ) +\n",
    "  theme_minimal(base_size = 12) +\n",
    "  theme(axis.text.x = element_text(angle = 45, hjust = 1)) +\n",
    "  labs(\n",
    "    title = \"Environmental Indicator Correlation Heatmap\",\n",
    "    subtitle = \"SDG 13: Climate Action\",\n",
    "    x = \"\",\n",
    "    y = \"\"\n",
    "  )"
   ]
  },
  {
   "cell_type": "code",
   "execution_count": 51,
   "id": "e2ade140-7c7f-4803-81ca-89345bd760a9",
   "metadata": {},
   "outputs": [],
   "source": [
    "#Try this: Increase the renewable energy share in Country C (row 3):\n",
    "\n",
    "climate[3, 4] <- 90  # new renewables value for Country C\n",
    "scaled_climate <- scale(climate)\n",
    "cor_matrix <- cor(scaled_climate)\n",
    "melted <- melt(cor_matrix)\n",
    "\n",
    "# Re-plot the heatmap (same code as above)\n",
    "#Question: How did this change the correlation between renewables and the other variables?"
   ]
  },
  {
   "cell_type": "code",
   "execution_count": 53,
   "id": "b1e8c21c-4e01-40aa-91f5-35c64f53366e",
   "metadata": {},
   "outputs": [
    {
     "data": {
      "image/png": "[encoded data removed]",
      "text/plain": [
       "plot without title"
      ]
     },
     "metadata": {
      "image/png": {
       "height": 420,
       "width": 420
      }
     },
     "output_type": "display_data"
    }
   ],
   "source": [
    "library(ggplot2)\n",
    "\n",
    "ggplot(melted, aes(x = Var1, y = Var2, fill = value)) +\n",
    "  geom_tile(color = \"white\", linewidth = 0.5) +\n",
    "  scale_fill_gradient2(\n",
    "    low = \"steelblue\",\n",
    "    high = \"firebrick\",\n",
    "    mid = \"white\",\n",
    "    midpoint = 0,\n",
    "    limit = c(-1, 1),\n",
    "    name = \"Correlation\"\n",
    "  ) +\n",
    "  theme_minimal(base_size = 12) +\n",
    "  theme(axis.text.x = element_text(angle = 45, hjust = 1)) +\n",
    "  labs(\n",
    "    title = \"Environmental Indicator Correlation Heatmap\",\n",
    "    subtitle = \"SDG 13: Climate Action\",\n",
    "    x = \"\",\n",
    "    y = \"\"\n",
    "  )"
   ]
  },
  {
   "cell_type": "code",
   "execution_count": 54,
   "id": "f8046b32-7fa2-4a8e-bc92-6685dea0d1e7",
   "metadata": {},
   "outputs": [
    {
     "data": {
      "image/png": "[encoded data removed]",
      "text/plain": [
       "plot without title"
      ]
     },
     "metadata": {
      "image/png": {
       "height": 420,
       "width": 420
      }
     },
     "output_type": "display_data"
    }
   ],
   "source": [
    "library(ggplot2)\n",
    "ggplot(melted, aes(x = Var1, y = Var2, fill = value)) +\n",
    "geom_tile(color = \"white\", linewidth = 0.5) +\n",
    "scale_fill_gradient2(\n",
    "    low = \"#000080\",\n",
    "    high = \"#800000\",\n",
    "    mid = \"#008000\",\n",
    "    midpoint = -0.95,\n",
    "    limit = c(-1, -0.9),\n",
    "    name = \"Correlation\"\n",
    ") +\n",
    "theme_minimal(base_size = 12) +\n",
    "theme(axis.text.x = element_text(angle = 45, hjust = 1)) +\n",
    "labs(\n",
    "    title = \"Environmental Indicator Correlation Heatmap\",\n",
    "    subtitle = \"SDG 13: Climate Action\",\n",
    "    x = \"\",\n",
    "    y = \"\"\n",
    ")"
   ]
  },
  {
   "cell_type": "code",
   "execution_count": null,
   "id": "ac8ca859-9303-42a2-9923-d3f843243807",
   "metadata": {},
   "outputs": [],
   "source": []
  }
 ],
 "metadata": {
  "kernelspec": {
   "display_name": "R",
   "language": "R",
   "name": "ir"
  },
  "language_info": {
   "codemirror_mode": "r",
   "file_extension": ".r",
   "mimetype": "text/x-r-source",
   "name": "R",
   "pygments_lexer": "r",
   "version": "4.5.1"
  }
 },
 "nbformat": 4,
 "nbformat_minor": 5
}
