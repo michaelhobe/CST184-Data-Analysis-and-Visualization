{
 "cells": [
  {
   "cell_type": "code",
   "execution_count": 1,
   "id": "c67dcfd4-1ca0-47c6-a5c6-00510d8d3cdd",
   "metadata": {},
   "outputs": [
    {
     "name": "stdout",
     "output_type": "stream",
     "text": [
      "     [,1]        [,2]\n",
      "[1,]   -1 -0.96098765\n",
      "[2,]    0 -0.07392213\n",
      "[3,]    1  1.03490978\n",
      "attr(,\"scaled:center\")\n",
      "[1] 200.000000   1.233333\n",
      "attr(,\"scaled:scale\")\n",
      "[1] 100.000000   0.450925\n"
     ]
    }
   ],
   "source": [
    "data_matrix <- matrix(c(100, 0.8, 200, 1.2, 300, 1.7), nrow = 3, byrow = TRUE)\n",
    "scaled <- scale(data_matrix)\n",
    "print(scaled)"
   ]
  },
  {
   "cell_type": "code",
   "execution_count": 2,
   "id": "b59624ae-2cdc-4ed4-a1bd-6a1d1d3a6635",
   "metadata": {},
   "outputs": [],
   "source": [
    "#Use %*% for matrix multiplication. For example:\n",
    "\n",
    "transformation <- matrix(c(1, 0, 0, -1), nrow=2)\n",
    "result <- scaled %*% transformation\n",
    "#This transformation flips the sign of the second column (e.g., temperature) while keeping the first column unchanged."
   ]
  },
  {
   "cell_type": "code",
   "execution_count": 3,
   "id": "d0717206-c216-4a8e-aa02-8b8cdcd0b85a",
   "metadata": {},
   "outputs": [
    {
     "name": "stdout",
     "output_type": "stream",
     "text": [
      "     [,1] [,2]\n",
      "[1,]    1    1\n",
      "[2,]    0    0\n",
      "[3,]   -1   -1\n",
      "attr(,\"scaled:center\")\n",
      "[1] 180.0   1.3\n",
      "attr(,\"scaled:scale\")\n",
      "[1] 20.0  0.2\n",
      "     [,1] [,2]\n",
      "[1,]    1   -1\n",
      "[2,]    0    0\n",
      "[3,]   -1    1\n"
     ]
    }
   ],
   "source": [
    "#Practice with a small matrix:\n",
    "\n",
    "m <- matrix(c(200, 1.5, 180, 1.3, 160, 1.1), nrow=3, byrow=TRUE)\n",
    "scaled <- scale(m)\n",
    "print(scaled)\n",
    "\n",
    "# Flip the temperature column\n",
    "flip <- matrix(c(1, 0, 0, -1), nrow=2)\n",
    "result <- scaled %*% flip\n",
    "print(result)"
   ]
  },
  {
   "cell_type": "code",
   "execution_count": 4,
   "id": "dd82371d-45d0-4c62-951c-a418de2f53eb",
   "metadata": {},
   "outputs": [
    {
     "name": "stdout",
     "output_type": "stream",
     "text": [
      "  CO2 Temp Deforestation\n",
      "A 9.2  1.1           0.8\n",
      "B 6.5  0.9           1.2\n",
      "C 2.3  0.7           2.5\n",
      "D 3.8  1.0           1.5\n",
      "E 7.1  1.2           0.9\n"
     ]
    }
   ],
   "source": [
    "# Create a 5x3 matrix: [CO2, Temp Anomaly, Deforestation Rate]\n",
    "climate <- matrix(c(\n",
    "  9.2, 1.1, 0.8,   # Country A\n",
    "  6.5, 0.9, 1.2,   # Country B\n",
    "  2.3, 0.7, 2.5,   # Country C\n",
    "  3.8, 1.0, 1.5,   # Country D\n",
    "  7.1, 1.2, 0.9    # Country E\n",
    "), nrow=5, byrow=TRUE)\n",
    "\n",
    "colnames(climate) <- c(\"CO2\", \"Temp\", \"Deforestation\")\n",
    "rownames(climate) <- c(\"A\", \"B\", \"C\", \"D\", \"E\")\n",
    "\n",
    "print(climate)"
   ]
  },
  {
   "cell_type": "code",
   "execution_count": 5,
   "id": "cb7be49e-00ce-4a20-8242-b8f096410199",
   "metadata": {},
   "outputs": [
    {
     "name": "stdout",
     "output_type": "stream",
     "text": [
      "         CO2       Temp Deforestation\n",
      "A  1.2490573  0.6238503    -0.8487300\n",
      "B  0.2629594 -0.4159002    -0.2633990\n",
      "C -1.2709706 -1.4556507     1.6389269\n",
      "D -0.7231384  0.1039750     0.1755993\n",
      "E  0.4820923  1.1437255    -0.7023972\n",
      "attr(,\"scaled:center\")\n",
      "          CO2          Temp Deforestation \n",
      "         5.78          0.98          1.38 \n",
      "attr(,\"scaled:scale\")\n",
      "          CO2          Temp Deforestation \n",
      "    2.7380650     0.1923538     0.6833740 \n"
     ]
    }
   ],
   "source": [
    "scaled_climate <- scale(climate)\n",
    "print(scaled_climate)"
   ]
  },
  {
   "cell_type": "code",
   "execution_count": 6,
   "id": "77dddb20-7567-49d7-986c-581e99aac2b3",
   "metadata": {},
   "outputs": [
    {
     "name": "stdout",
     "output_type": "stream",
     "text": [
      "        [,1]       [,2]       [,3]\n",
      "A  1.2490573  0.6238503  0.8487300\n",
      "B  0.2629594 -0.4159002  0.2633990\n",
      "C -1.2709706 -1.4556507 -1.6389269\n",
      "D -0.7231384  0.1039750 -0.1755993\n",
      "E  0.4820923  1.1437255  0.7023972\n"
     ]
    }
   ],
   "source": [
    "#Let’s invert the deforestation rate so higher values reflect lower impact (for comparison purposes).\n",
    "\n",
    "# Transformation matrix: keep CO2 and Temp, invert Deforestation\n",
    "flip <- matrix(c(1, 0, 0,\n",
    "                 0, 1, 0,\n",
    "                 0, 0, -1), nrow=3)\n",
    "\n",
    "transformed <- scaled_climate %*% flip\n",
    "print(transformed)\n",
    "#🧠 Question: Why might inverting some metrics make sense when analyzing sustainability data?"
   ]
  },
  {
   "cell_type": "code",
   "execution_count": 7,
   "id": "c7228103-f2fb-424d-8b22-797b77d33b6a",
   "metadata": {},
   "outputs": [
    {
     "name": "stdout",
     "output_type": "stream",
     "text": [
      "             A          B         C          D         E\n",
      "[1,] 1.2490573  0.2629594 -1.270971 -0.7231384 0.4820923\n",
      "[2,] 0.6238503 -0.4159002 -1.455651  0.1039750 1.1437255\n",
      "[3,] 0.8487300  0.2633990 -1.638927 -0.1755993 0.7023972\n"
     ]
    }
   ],
   "source": [
    "#Sometimes we need to flip rows and columns to match other analysis tools.\n",
    "\n",
    "transposed <- t(transformed)\n",
    "print(transposed)\n",
    "#This transposed matrix has variables as rows and countries as columns — useful when plotting heatmaps."
   ]
  },
  {
   "cell_type": "code",
   "execution_count": 8,
   "id": "9dafdbc1-a90e-4165-b23a-4a021195cdf0",
   "metadata": {},
   "outputs": [
    {
     "name": "stdout",
     "output_type": "stream",
     "text": [
      "        [,1]       [,2]       [,3]\n",
      "A  2.4981145  0.6238503  0.8487300\n",
      "B  0.5259188 -0.4159002  0.2633990\n",
      "C -2.5419411 -1.4556507 -1.6389269\n",
      "D -1.4462768  0.1039750 -0.1755993\n",
      "E  0.9641846  1.1437255  0.7023972\n"
     ]
    }
   ],
   "source": [
    "#Try this:\n",
    "\n",
    "#Add a sixth country to the matrix.\n",
    "#Change the transformation matrix to weight CO₂ more heavily (e.g., multiply it by 2).\n",
    "#Transpose again and compare the new values.\n",
    "# Example: double the CO2 contribution\n",
    "weight <- matrix(c(2, 0, 0,\n",
    "                   0, 1, 0,\n",
    "                   0, 0, -1), nrow=3)\n",
    "\n",
    "adjusted <- scaled_climate %*% weight\n",
    "print(adjusted)"
   ]
  },
  {
   "cell_type": "code",
   "execution_count": 9,
   "id": "7a87da36-5bcc-449f-89d9-f868d4c34b8b",
   "metadata": {},
   "outputs": [
    {
     "name": "stdout",
     "output_type": "stream",
     "text": [
      "                     CO2       Temp Deforestation\n",
      "CO2            1.0000000  0.7490355    -0.9195016\n",
      "Temp           0.7490355  1.0000000    -0.8976824\n",
      "Deforestation -0.9195016 -0.8976824     1.0000000\n"
     ]
    }
   ],
   "source": [
    "cor_matrix <- cor(scaled_climate)\n",
    "print(cor_matrix)"
   ]
  },
  {
   "cell_type": "code",
   "execution_count": null,
   "id": "f87357fd-97a2-4162-9503-800cf5724295",
   "metadata": {},
   "outputs": [],
   "source": []
  }
 ],
 "metadata": {
  "kernelspec": {
   "display_name": "R",
   "language": "R",
   "name": "ir"
  },
  "language_info": {
   "codemirror_mode": "r",
   "file_extension": ".r",
   "mimetype": "text/x-r-source",
   "name": "R",
   "pygments_lexer": "r",
   "version": "4.5.1"
  }
 },
 "nbformat": 4,
 "nbformat_minor": 5
}
