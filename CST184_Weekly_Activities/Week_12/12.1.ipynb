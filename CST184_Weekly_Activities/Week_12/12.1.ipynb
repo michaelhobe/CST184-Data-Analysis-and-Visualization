{
 "cells": [
  {
   "cell_type": "code",
   "execution_count": 4,
   "id": "d0e7be7b-2118-454a-b734-4d097849d9eb",
   "metadata": {},
   "outputs": [
    {
     "data": {
      "text/html": [
       "<table class=\"dataframe\">\n",
       "<caption>A data.frame: 6 × 2</caption>\n",
       "<thead>\n",
       "\t<tr><th></th><th scope=col>Year</th><th scope=col>Renewable_Energy_Percent</th></tr>\n",
       "\t<tr><th></th><th scope=col>&lt;int&gt;</th><th scope=col>&lt;dbl&gt;</th></tr>\n",
       "</thead>\n",
       "<tbody>\n",
       "\t<tr><th scope=row>1</th><td>1990</td><td>12.75</td></tr>\n",
       "\t<tr><th scope=row>2</th><td>1991</td><td>12.26</td></tr>\n",
       "\t<tr><th scope=row>3</th><td>1992</td><td>13.91</td></tr>\n",
       "\t<tr><th scope=row>4</th><td>1993</td><td>15.69</td></tr>\n",
       "\t<tr><th scope=row>5</th><td>1994</td><td>13.52</td></tr>\n",
       "\t<tr><th scope=row>6</th><td>1995</td><td>13.99</td></tr>\n",
       "</tbody>\n",
       "</table>\n"
      ],
      "text/latex": [
       "A data.frame: 6 × 2\n",
       "\\begin{tabular}{r|ll}\n",
       "  & Year & Renewable\\_Energy\\_Percent\\\\\n",
       "  & <int> & <dbl>\\\\\n",
       "\\hline\n",
       "\t1 & 1990 & 12.75\\\\\n",
       "\t2 & 1991 & 12.26\\\\\n",
       "\t3 & 1992 & 13.91\\\\\n",
       "\t4 & 1993 & 15.69\\\\\n",
       "\t5 & 1994 & 13.52\\\\\n",
       "\t6 & 1995 & 13.99\\\\\n",
       "\\end{tabular}\n"
      ],
      "text/markdown": [
       "\n",
       "A data.frame: 6 × 2\n",
       "\n",
       "| <!--/--> | Year &lt;int&gt; | Renewable_Energy_Percent &lt;dbl&gt; |\n",
       "|---|---|---|\n",
       "| 1 | 1990 | 12.75 |\n",
       "| 2 | 1991 | 12.26 |\n",
       "| 3 | 1992 | 13.91 |\n",
       "| 4 | 1993 | 15.69 |\n",
       "| 5 | 1994 | 13.52 |\n",
       "| 6 | 1995 | 13.99 |\n",
       "\n"
      ],
      "text/plain": [
       "  Year Renewable_Energy_Percent\n",
       "1 1990 12.75                   \n",
       "2 1991 12.26                   \n",
       "3 1992 13.91                   \n",
       "4 1993 15.69                   \n",
       "5 1994 13.52                   \n",
       "6 1995 13.99                   "
      ]
     },
     "metadata": {},
     "output_type": "display_data"
    },
    {
     "data": {
      "text/plain": [
       "      Year      Renewable_Energy_Percent\n",
       " Min.   :1990   Min.   :12.26           \n",
       " 1st Qu.:1998   1st Qu.:15.98           \n",
       " Median :2006   Median :18.19           \n",
       " Mean   :2006   Mean   :19.30           \n",
       " 3rd Qu.:2014   3rd Qu.:22.46           \n",
       " Max.   :2022   Max.   :29.31           "
      ]
     },
     "metadata": {},
     "output_type": "display_data"
    }
   ],
   "source": [
    "data <- read.csv(\"sdg7_renewable_energy_percent.csv\")\n",
    "head(data)\n",
    "summary(data)"
   ]
  },
  {
   "cell_type": "code",
   "execution_count": 9,
   "id": "ea3821be-b590-4bb4-988a-a3fb4eef6ad5",
   "metadata": {},
   "outputs": [
    {
     "name": "stderr",
     "output_type": "stream",
     "text": [
      "Installing package into 'C:/Users/micha/AppData/Local/R/win-library/4.5'\n",
      "(as 'lib' is unspecified)\n",
      "\n"
     ]
    },
    {
     "name": "stdout",
     "output_type": "stream",
     "text": [
      "package 'tseries' successfully unpacked and MD5 sums checked\n",
      "\n",
      "The downloaded binary packages are in\n",
      "\tC:\\Users\\micha\\AppData\\Local\\Temp\\RtmpW0UmQZ\\downloaded_packages\n"
     ]
    }
   ],
   "source": [
    "install.packages(\"tseries\")"
   ]
  },
  {
   "cell_type": "code",
   "execution_count": 5,
   "id": "320a9794-c585-4d7f-847e-c74825535af2",
   "metadata": {},
   "outputs": [
    {
     "data": {
      "image/png": "[encoded data removed]",
      "text/plain": [
       "plot without title"
      ]
     },
     "metadata": {
      "image/png": {
       "height": 420,
       "width": 420
      }
     },
     "output_type": "display_data"
    }
   ],
   "source": [
    "library(ggplot2)\n",
    "\n",
    "ggplot(data, aes(x = Year, y = Renewable_Energy_Percent)) +\n",
    "  geom_line(color = \"darkgreen\") +\n",
    "  geom_point() +\n",
    "  labs(title = \"Renewable Energy (% of Total)\", y = \"Percent\", x = \"Year\") +\n",
    "  theme_minimal()"
   ]
  },
  {
   "cell_type": "code",
   "execution_count": 6,
   "id": "21ab89d7-5c47-448f-85a0-83c294b5fc72",
   "metadata": {},
   "outputs": [
    {
     "data": {
      "image/png": "[encoded data removed]",
      "text/plain": [
       "Plot with title \"Renewable Energy Time Series\""
      ]
     },
     "metadata": {
      "image/png": {
       "height": 420,
       "width": 420
      }
     },
     "output_type": "display_data"
    }
   ],
   "source": [
    "ts_data <- ts(data$Renewable_Energy_Percent, start = 1990, frequency = 1)\n",
    "plot(ts_data, main = \"Renewable Energy Time Series\", ylab = \"% of Energy\", xlab = \"Year\")\n"
   ]
  },
  {
   "cell_type": "code",
   "execution_count": 10,
   "id": "11e78347-aca9-4e66-baf9-1cc548940ad8",
   "metadata": {},
   "outputs": [
    {
     "name": "stderr",
     "output_type": "stream",
     "text": [
      "Installing package into 'C:/Users/micha/AppData/Local/R/win-library/4.5'\n",
      "(as 'lib' is unspecified)\n",
      "\n",
      "also installing the dependencies 'colorspace', 'fracdiff', 'lmtest', 'timeDate', 'urca', 'RcppArmadillo'\n",
      "\n",
      "\n"
     ]
    },
    {
     "name": "stdout",
     "output_type": "stream",
     "text": [
      "package 'colorspace' successfully unpacked and MD5 sums checked\n",
      "package 'fracdiff' successfully unpacked and MD5 sums checked\n",
      "package 'lmtest' successfully unpacked and MD5 sums checked\n",
      "package 'timeDate' successfully unpacked and MD5 sums checked\n",
      "package 'urca' successfully unpacked and MD5 sums checked\n",
      "package 'RcppArmadillo' successfully unpacked and MD5 sums checked\n",
      "package 'forecast' successfully unpacked and MD5 sums checked\n",
      "\n",
      "The downloaded binary packages are in\n",
      "\tC:\\Users\\micha\\AppData\\Local\\Temp\\RtmpW0UmQZ\\downloaded_packages\n"
     ]
    }
   ],
   "source": [
    "install.packages(\"forecast\")"
   ]
  },
  {
   "cell_type": "code",
   "execution_count": 11,
   "id": "381c7fc3-7758-402b-af29-56e0448f6122",
   "metadata": {},
   "outputs": [
    {
     "name": "stderr",
     "output_type": "stream",
     "text": [
      "Registered S3 method overwritten by 'quantmod':\n",
      "  method            from\n",
      "  as.zoo.data.frame zoo \n",
      "\n"
     ]
    },
    {
     "data": {
      "text/plain": [
       "\n",
       "\tAugmented Dickey-Fuller Test\n",
       "\n",
       "data:  ts_data\n",
       "Dickey-Fuller = -1.4986, Lag order = 3, p-value = 0.7668\n",
       "alternative hypothesis: stationary\n"
      ]
     },
     "metadata": {},
     "output_type": "display_data"
    }
   ],
   "source": [
    "library(tseries)\n",
    "\n",
    "adf.test(ts_data)  # Augmented Dickey-Fuller Test"
   ]
  },
  {
   "cell_type": "code",
   "execution_count": 12,
   "id": "0da0e954-d249-4c76-83af-31f6ac568ed0",
   "metadata": {},
   "outputs": [
    {
     "data": {
      "text/plain": [
       "Series: ts_data \n",
       "ARIMA(0,1,1) with drift \n",
       "\n",
       "Coefficients:\n",
       "          ma1   drift\n",
       "      -0.8272  0.4483\n",
       "s.e.   0.1485  0.0524\n",
       "\n",
       "sigma^2 = 2.142:  log likelihood = -57.14\n",
       "AIC=120.28   AICc=121.14   BIC=124.68\n",
       "\n",
       "Training set error measures:\n",
       "                      ME     RMSE      MAE        MPE    MAPE     MASE\n",
       "Training set -0.02003848 1.395607 1.056973 -0.8469776 5.71951 0.646343\n",
       "                   ACF1\n",
       "Training set -0.0750061"
      ]
     },
     "metadata": {},
     "output_type": "display_data"
    }
   ],
   "source": [
    "library(forecast)\n",
    "\n",
    "model <- auto.arima(ts_data)\n",
    "summary(model)"
   ]
  },
  {
   "cell_type": "code",
   "execution_count": 13,
   "id": "4b670ee2-a224-47ac-a7de-896b45d9c3b4",
   "metadata": {},
   "outputs": [
    {
     "data": {
      "image/png": "[encoded data removed]",
      "text/plain": [
       "Plot with title \"Forecast of Renewable Energy to 2030\""
      ]
     },
     "metadata": {
      "image/png": {
       "height": 420,
       "width": 420
      }
     },
     "output_type": "display_data"
    }
   ],
   "source": [
    "forecasted <- forecast(model, h = 8)  # 2023 to 2030\n",
    "plot(forecasted, main = \"Forecast of Renewable Energy to 2030\")"
   ]
  },
  {
   "cell_type": "code",
   "execution_count": 14,
   "id": "c80441ce-bd43-492c-b8ed-8f19fc27be45",
   "metadata": {},
   "outputs": [
    {
     "data": {
      "image/png": "[encoded data removed]",
      "text/plain": [
       "plot without title"
      ]
     },
     "metadata": {
      "image/png": {
       "height": 420,
       "width": 420
      }
     },
     "output_type": "display_data"
    }
   ],
   "source": [
    "# Convert forecast to data frame for plotting\n",
    "forecast_df <- data.frame(\n",
    "  Year = 2023:2030,\n",
    "  Forecast = forecasted$mean,\n",
    "  Lower = forecasted$lower[,2],\n",
    "  Upper = forecasted$upper[,2]\n",
    ")\n",
    "\n",
    "ggplot() +\n",
    "  geom_line(data = data, aes(x = Year, y = Renewable_Energy_Percent), color = \"darkgreen\") +\n",
    "  geom_line(data = forecast_df, aes(x = Year, y = Forecast), color = \"blue\") +\n",
    "  geom_ribbon(data = forecast_df, aes(x = Year, ymin = Lower, ymax = Upper), alpha = 0.3) +\n",
    "  labs(title = \"Forecast of Renewable Energy Usage\", y = \"% Renewable\", x = \"Year\") +\n",
    "  theme_minimal()"
   ]
  },
  {
   "cell_type": "code",
   "execution_count": 15,
   "id": "ce5384d2-18de-4a78-848c-c2a477287d66",
   "metadata": {},
   "outputs": [
    {
     "name": "stdout",
     "output_type": "stream",
     "text": [
      "2030 Normal: 30.5 %\n",
      "2030 Policy: 42.5 %\n"
     ]
    },
    {
     "data": {
      "image/png": "[encoded data removed]",
      "text/plain": [
       "Plot with title \"Renewable Energy: Normal vs Policy Boost\""
      ]
     },
     "metadata": {
      "image/png": {
       "height": 420,
       "width": 420
      }
     },
     "output_type": "display_data"
    }
   ],
   "source": [
    "# Step 9 Scenario 1: Policy boost adds 2% per year from 2025\n",
    "policy_boost <- forecasted$mean\n",
    "for(i in 3:8) {  # 2025 onwards (3rd year = 2025)\n",
    "  policy_boost[i] <- policy_boost[i] + 2 * (i - 2)\n",
    "}\n",
    "\n",
    "# Plot comparison\n",
    "plot(2023:2030, forecasted$mean, type = \"l\", col = \"blue\", \n",
    "     ylim = c(min(forecasted$mean), max(policy_boost)), \n",
    "     main = \"Renewable Energy: Normal vs Policy Boost\",\n",
    "     xlab = \"Year\", ylab = \"% Renewable\")\n",
    "lines(2023:2030, policy_boost, col = \"red\")\n",
    "legend(\"topleft\", c(\"Normal\", \"Policy Boost\"), col = c(\"blue\", \"red\"), lty = 1)\n",
    "\n",
    "cat(\"2030 Normal:\", round(forecasted$mean[8], 1), \"%\\n\")\n",
    "cat(\"2030 Policy:\", round(policy_boost[8], 1), \"%\\n\")"
   ]
  },
  {
   "cell_type": "code",
   "execution_count": 16,
   "id": "9a3aef18-42fb-488f-b53c-aaf328c9c187",
   "metadata": {},
   "outputs": [
    {
     "name": "stdout",
     "output_type": "stream",
     "text": [
      "2030 Range with high volatility: 24.2 to 36.8 %\n"
     ]
    },
    {
     "data": {
      "image/png": "[encoded data removed]",
      "text/plain": [
       "Plot with title \"Renewable Energy with High Volatility After 2025\""
      ]
     },
     "metadata": {
      "image/png": {
       "height": 420,
       "width": 420
      }
     },
     "output_type": "display_data"
    }
   ],
   "source": [
    "# Step 9 Scenario 2: Increased volatility after 2025\n",
    "set.seed(123)\n",
    "\n",
    "# Create wider confidence bands after 2025\n",
    "normal_upper <- forecasted$upper[,2]\n",
    "normal_lower <- forecasted$lower[,2]\n",
    "\n",
    "# Double the uncertainty after 2025\n",
    "high_vol_upper <- normal_upper\n",
    "high_vol_lower <- normal_lower\n",
    "\n",
    "for(i in 3:8) {  # 2025 onwards\n",
    "  uncertainty <- (normal_upper[i] - normal_lower[i]) / 2\n",
    "  high_vol_upper[i] <- forecasted$mean[i] + uncertainty * 2\n",
    "  high_vol_lower[i] <- forecasted$mean[i] - uncertainty * 2\n",
    "}\n",
    "\n",
    "# Plot with high volatility\n",
    "plot(2023:2030, forecasted$mean, type = \"l\", col = \"blue\",\n",
    "     ylim = c(min(high_vol_lower), max(high_vol_upper)),\n",
    "     main = \"Renewable Energy with High Volatility After 2025\",\n",
    "     xlab = \"Year\", ylab = \"% Renewable\")\n",
    "polygon(c(2023:2030, 2030:2023), c(high_vol_upper, rev(high_vol_lower)), \n",
    "         col = rgb(1,0,0,0.3), border = NA)\n",
    "lines(2023:2030, forecasted$mean, col = \"blue\", lwd = 2)\n",
    "\n",
    "cat(\"2030 Range with high volatility:\", round(high_vol_lower[8], 1), \"to\", round(high_vol_upper[8], 1), \"%\\n\")"
   ]
  },
  {
   "cell_type": "code",
   "execution_count": null,
   "id": "3472564a-5d20-4f12-a4b8-893ab5dd3efa",
   "metadata": {},
   "outputs": [],
   "source": []
  }
 ],
 "metadata": {
  "kernelspec": {
   "display_name": "R",
   "language": "R",
   "name": "ir"
  },
  "language_info": {
   "codemirror_mode": "r",
   "file_extension": ".r",
   "mimetype": "text/x-r-source",
   "name": "R",
   "pygments_lexer": "r",
   "version": "4.5.1"
  }
 },
 "nbformat": 4,
 "nbformat_minor": 5
}
