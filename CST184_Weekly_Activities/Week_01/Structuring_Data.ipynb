{
 "cells": [
  {
   "cell_type": "code",
   "execution_count": null,
   "id": "dc5d183d",
   "metadata": {
    "vscode": {
     "languageId": "plaintext"
    }
   },
   "outputs": [],
   "source": [
    "\n",
    "# --- CREATE DATA ---\n",
    "\n",
    "# List of tuples (Country, Renewable Energy %)\n",
    "renewables = [\n",
    "    (\"Nepal\", 89),\n",
    "    (\"Germany\", 42),\n",
    "    (\"Brazil\", 76),\n",
    "    (\"India\", 24),\n",
    "    (\"Norway\", 98),\n",
    "    (\"Australia\", 30)\n",
    "]\n",
    "\n",
    "# Convert to dictionary for fast access\n",
    "renewable_dict = {country: percent for country, percent in renewables}\n",
    "\n",
    "print(\"Original Dataset:\")\n",
    "for country, percent in renewable_dict.items():\n",
    "    print(f\"{country}: {percent}% renewable\")\n",
    "\n",
    "print(\"\\n---\\n\")\n",
    "\n",
    "# --- FILTERING DATA ---\n",
    "\n",
    "# Keep only countries with > 50% renewable energy\n",
    "filtered = {k: v for k, v in renewable_dict.items() if v > 50}\n",
    "\n",
    "print(\"Filtered Dataset ( > 50% renewable ):\")\n",
    "for country, percent in filtered.items():\n",
    "    print(f\"{country}: {percent}%\")\n",
    "\n",
    "print(\"\\n---\\n\")\n",
    "\n",
    "# --- SAVING TO JSON ---\n",
    "\n",
    "import json\n",
    "\n",
    "# Save filtered dataset to a JSON file\n",
    "with open(\"filtered_renewables.json\", \"w\") as f:\n",
    "    json.dump(filtered, f)\n",
    "\n",
    "print(\"Filtered data saved as 'filtered_renewables.json'\")\n"
   ]
  }
 ],
 "metadata": {
  "kernelspec": {
   "display_name": "Python 3 (ipykernel)",
   "language": "python",
   "name": "python3"
  },
  "language_info": {
   "codemirror_mode": {
    "name": "ipython",
    "version": 3
   },
   "file_extension": ".py",
   "mimetype": "text/x-python",
   "name": "python",
   "nbconvert_exporter": "python",
   "pygments_lexer": "ipython3",
   "version": "3.12.0"
  }
 },
 "nbformat": 4,
 "nbformat_minor": 5
}
