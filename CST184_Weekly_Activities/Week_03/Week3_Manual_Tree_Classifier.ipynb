{
 "cells": [
  {
   "cell_type": "code",
   "execution_count": 1,
   "id": "27b6d647-9081-4271-a44e-28d853b412f6",
   "metadata": {},
   "outputs": [
    {
     "name": "stdout",
     "output_type": "stream",
     "text": [
      "Bhutan is classified under: Policy A\n",
      "\n",
      "--- Decision Path ---\n",
      "High Renewable: True\n",
      "Low CO₂ Emissions: True\n"
     ]
    }
   ],
   "source": [
    "\n",
    "# Manual simulation of a decision tree\n",
    "\n",
    "# Example country data (change values to test different paths)\n",
    "country = \"Bhutan\"\n",
    "percent_renewable = 85\n",
    "co2_emissions = 1.1\n",
    "\n",
    "# Simulated decision tree structure\n",
    "if percent_renewable > 50:\n",
    "    if co2_emissions < 2:\n",
    "        classification = \"Policy A\"\n",
    "    else:\n",
    "        classification = \"Policy B\"\n",
    "else:\n",
    "    if co2_emissions < 2:\n",
    "        classification = \"Policy C\"\n",
    "    else:\n",
    "        classification = \"No Policy\"\n",
    "\n",
    "# Output the result\n",
    "print(f\"{country} is classified under: {classification}\")\n",
    "\n",
    "# Show decision path\n",
    "print(\"\\n--- Decision Path ---\")\n",
    "print(\"High Renewable:\", percent_renewable > 50)\n",
    "print(\"Low CO₂ Emissions:\", co2_emissions < 2)\n"
   ]
  },
  {
   "cell_type": "code",
   "execution_count": null,
   "id": "d468e6cc-1304-44dc-a22e-a97cb4421bc4",
   "metadata": {},
   "outputs": [],
   "source": []
  }
 ],
 "metadata": {
  "kernelspec": {
   "display_name": "Python 3 (ipykernel)",
   "language": "python",
   "name": "python3"
  },
  "language_info": {
   "codemirror_mode": {
    "name": "ipython",
    "version": 3
   },
   "file_extension": ".py",
   "mimetype": "text/x-python",
   "name": "python",
   "nbconvert_exporter": "python",
   "pygments_lexer": "ipython3",
   "version": "3.12.0"
  }
 },
 "nbformat": 4,
 "nbformat_minor": 5
}
