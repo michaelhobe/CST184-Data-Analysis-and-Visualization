{
 "cells": [
  {
   "cell_type": "code",
   "execution_count": 4,
   "id": "318d99b9-b37a-4f22-b1ce-8bc5393a634c",
   "metadata": {},
   "outputs": [
    {
     "name": "stdout",
     "output_type": "stream",
     "text": [
      "Kenya qualifies for Policy A.\n",
      "Kenya should be fast-tracked for funding support.\n",
      "\n",
      "--- Truth Table Output ---\n",
      "High Renewable: True\n",
      "Low Emissions: True\n",
      "Is in Africa: True\n",
      "Is Low Income: True\n"
     ]
    }
   ],
   "source": [
    "\n",
    "# Scenario: Apply logic-based policy rules to simulated country data\n",
    "\n",
    "country = \"Kenya\"\n",
    "percent_renewable = 55      # % of energy from renewables\n",
    "co2_emissions = 1.6         # tonnes per capita\n",
    "region = \"Africa\"\n",
    "is_low_income = True\n",
    "\n",
    "# Inference Rule (Modus Ponens style):\n",
    "# If renewable > 50 and emissions < 2, then country qualifies for Policy A\n",
    "if percent_renewable > 50 and co2_emissions < 2:\n",
    "    print(f\"{country} qualifies for Policy A.\")\n",
    "else:\n",
    "    print(f\"{country} does not qualify for Policy A.\")\n",
    "\n",
    "# Inference Chain:\n",
    "# If Policy A applies and the country is in Africa or is low income, flag for fast-track aid\n",
    "if percent_renewable > 50 and co2_emissions < 2:\n",
    "    if region == \"Africa\" or is_low_income:\n",
    "        print(f\"{country} should be fast-tracked for funding support.\")\n",
    "\n",
    "# Explain the logic in Boolean values\n",
    "print(\"\\n--- Truth Table Output ---\")\n",
    "print(\"High Renewable:\", percent_renewable > 50)\n",
    "print(\"Low Emissions:\", co2_emissions < 2)\n",
    "print(\"Is in Africa:\", region == \"Africa\")\n",
    "print(\"Is Low Income:\", is_low_income)\n"
   ]
  }
 ],
 "metadata": {
  "kernelspec": {
   "display_name": "Python 3 (ipykernel)",
   "language": "python",
   "name": "python3"
  },
  "language_info": {
   "codemirror_mode": {
    "name": "ipython",
    "version": 3
   },
   "file_extension": ".py",
   "mimetype": "text/x-python",
   "name": "python",
   "nbconvert_exporter": "python",
   "pygments_lexer": "ipython3",
   "version": "3.12.0"
  }
 },
 "nbformat": 4,
 "nbformat_minor": 5
}
