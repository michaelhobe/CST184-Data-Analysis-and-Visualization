{
 "cells": [
  {
   "cell_type": "code",
   "execution_count": 2,
   "id": "e3ce14de-16d2-4e60-a31c-860afe178320",
   "metadata": {},
   "outputs": [
    {
     "ename": "ModuleNotFoundError",
     "evalue": "No module named 'sklearn'",
     "output_type": "error",
     "traceback": [
      "\u001b[31m---------------------------------------------------------------------------\u001b[39m",
      "\u001b[31mModuleNotFoundError\u001b[39m                       Traceback (most recent call last)",
      "\u001b[36mCell\u001b[39m\u001b[36m \u001b[39m\u001b[32mIn[2]\u001b[39m\u001b[32m, line 4\u001b[39m\n\u001b[32m      1\u001b[39m \u001b[38;5;66;03m# Build and visualize a decision tree without external data\u001b[39;00m\n\u001b[32m      3\u001b[39m \u001b[38;5;28;01mimport\u001b[39;00m\u001b[38;5;250m \u001b[39m\u001b[34;01mpandas\u001b[39;00m\u001b[38;5;250m \u001b[39m\u001b[38;5;28;01mas\u001b[39;00m\u001b[38;5;250m \u001b[39m\u001b[34;01mpd\u001b[39;00m\n\u001b[32m----> \u001b[39m\u001b[32m4\u001b[39m \u001b[38;5;28;01mfrom\u001b[39;00m\u001b[38;5;250m \u001b[39m\u001b[34;01msklearn\u001b[39;00m\u001b[34;01m.\u001b[39;00m\u001b[34;01mtree\u001b[39;00m\u001b[38;5;250m \u001b[39m\u001b[38;5;28;01mimport\u001b[39;00m DecisionTreeClassifier, plot_tree\n\u001b[32m      5\u001b[39m \u001b[38;5;28;01mimport\u001b[39;00m\u001b[38;5;250m \u001b[39m\u001b[34;01mmatplotlib\u001b[39;00m\u001b[34;01m.\u001b[39;00m\u001b[34;01mpyplot\u001b[39;00m\u001b[38;5;250m \u001b[39m\u001b[38;5;28;01mas\u001b[39;00m\u001b[38;5;250m \u001b[39m\u001b[34;01mplt\u001b[39;00m\n\u001b[32m      7\u001b[39m \u001b[38;5;66;03m# Step 1: Simulated dataset (small, hardcoded)\u001b[39;00m\n",
      "\u001b[31mModuleNotFoundError\u001b[39m: No module named 'sklearn'"
     ]
    }
   ],
   "source": [
    "\n",
    "# Build and visualize a decision tree without external data\n",
    "\n",
    "import pandas as pd\n",
    "from sklearn.tree import DecisionTreeClassifier, plot_tree\n",
    "import matplotlib.pyplot as plt\n",
    "\n",
    "# Step 1: Simulated dataset (small, hardcoded)\n",
    "data = {\n",
    "    \"Country\": [\"Nepal\", \"Kenya\", \"Germany\", \"India\", \"Australia\", \"Brazil\"],\n",
    "    \"%Renewable\": [88, 65, 45, 25, 35, 80],\n",
    "    \"CO2_per_capita\": [1.2, 1.8, 6.5, 1.9, 17.0, 2.1],\n",
    "    \"Apply_Policy\": [\"yes\", \"yes\", \"no\", \"yes\", \"no\", \"yes\"]\n",
    "}\n",
    "\n",
    "df = pd.DataFrame(data)\n",
    "\n",
    "# Step 2: Encode the label for modeling\n",
    "df[\"Label\"] = df[\"Apply_Policy\"].map({\"yes\": 1, \"no\": 0})\n",
    "\n",
    "# Step 3: Define features and target\n",
    "X = df[[\"%Renewable\", \"CO2_per_capita\"]]\n",
    "y = df[\"Label\"]\n",
    "\n",
    "# Step 4: Train the decision tree\n",
    "tree = DecisionTreeClassifier(max_depth=3, random_state=0)\n",
    "tree.fit(X, y)\n",
    "\n",
    "# Step 5: Visualize the tree\n",
    "plt.figure(figsize=(10, 6))\n",
    "plot_tree(tree, feature_names=X.columns, class_names=[\"No\", \"Yes\"], filled=True, rounded=True)\n",
    "plt.title(\"Decision Tree – Apply Policy A\")\n",
    "plt.show()\n"
   ]
  },
  {
   "cell_type": "code",
   "execution_count": null,
   "id": "c63eda1f-707b-4f84-ab2c-d143abd97a6e",
   "metadata": {},
   "outputs": [],
   "source": []
  }
 ],
 "metadata": {
  "kernelspec": {
   "display_name": "Python 3 (ipykernel)",
   "language": "python",
   "name": "python3"
  },
  "language_info": {
   "codemirror_mode": {
    "name": "ipython",
    "version": 3
   },
   "file_extension": ".py",
   "mimetype": "text/x-python",
   "name": "python",
   "nbconvert_exporter": "python",
   "pygments_lexer": "ipython3",
   "version": "3.12.0"
  }
 },
 "nbformat": 4,
 "nbformat_minor": 5
}
