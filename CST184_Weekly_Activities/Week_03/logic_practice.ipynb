{
 "cells": [
  {
   "cell_type": "code",
   "execution_count": 2,
   "id": "5f27f21d-4d5a-4abc-82b5-882a63164d30",
   "metadata": {},
   "outputs": [
    {
     "name": "stdout",
     "output_type": "stream",
     "text": [
      "America qualifies for Policy A\n",
      "High Renewable: True\n",
      "Low Emission: True\n"
     ]
    }
   ],
   "source": [
    "\n",
    "# Scenario:\n",
    "# You are assessing whether a country qualifies for Policy A.\n",
    "# Policy A is designed to reward countries with high renewable energy use\n",
    "# and low CO₂ emissions per capita.\n",
    "\n",
    "# Country data (you can modify these values below)\n",
    "country_name = \"America\"\n",
    "percent_renewable = 60\n",
    "co2_emissions = 1.8\n",
    "region = \"America\"\n",
    "\n",
    "# Define logical conditions\n",
    "is_high_renewable = percent_renewable > 50\n",
    "is_low_emission = co2_emissions < 2\n",
    "\n",
    "# Combined logical proposition using AND\n",
    "if is_high_renewable and is_low_emission:\n",
    "    print(f\"{country_name} qualifies for Policy A\")\n",
    "else:\n",
    "    print(f\"{country_name} does not qualify for Policy A\")\n",
    "\n",
    "# Display Boolean values for learning\n",
    "print(\"High Renewable:\", is_high_renewable)\n",
    "print(\"Low Emission:\", is_low_emission)\n"
   ]
  },
  {
   "cell_type": "code",
   "execution_count": null,
   "id": "ea243681-6bb2-4fda-b2ff-d9422dc0a3f6",
   "metadata": {},
   "outputs": [],
   "source": []
  }
 ],
 "metadata": {
  "kernelspec": {
   "display_name": "Python 3 (ipykernel)",
   "language": "python",
   "name": "python3"
  },
  "language_info": {
   "codemirror_mode": {
    "name": "ipython",
    "version": 3
   },
   "file_extension": ".py",
   "mimetype": "text/x-python",
   "name": "python",
   "nbconvert_exporter": "python",
   "pygments_lexer": "ipython3",
   "version": "3.12.0"
  }
 },
 "nbformat": 4,
 "nbformat_minor": 5
}
