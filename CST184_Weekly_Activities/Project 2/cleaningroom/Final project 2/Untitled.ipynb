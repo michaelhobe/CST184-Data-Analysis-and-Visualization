{
 "cells": [
  {
   "cell_type": "code",
   "execution_count": 1,
   "id": "6262457b-0007-4b9c-8e09-fd1dda223428",
   "metadata": {},
   "outputs": [],
   "source": [
    "# Import libraries for data analysis and plotting\n",
    "import pandas as pd\n",
    "import matplotlib.pyplot as plt\n",
    "import seaborn as sns\n",
    "import networkx as nx\n",
    "from scipy import stats\n",
    "\n",
    "# Load the dataset into a DataFrame\n",
    "df = pd.read_csv(\"owid_climate_data.csv\")"
   ]
  },
  {
   "cell_type": "code",
   "execution_count": 2,
   "id": "76696acf-dc68-4e83-aa92-03f4a49ad85e",
   "metadata": {},
   "outputs": [
    {
     "name": "stdout",
     "output_type": "stream",
     "text": [
      "CO2 range before filtering: 0.0 to 364.6994\n",
      "Records over 100: 5\n"
     ]
    }
   ],
   "source": [
    "# Remove rows with missing CO2 or temperature values\n",
    "df = df.dropna(subset=[\"CO2 Emissions Per Capita\", \"Annual Temperature Anomaly\"])\n",
    "\n",
    "# Standardize country names\n",
    "df[\"Country Name\"] = df[\"Country Name\"].str.strip().str.title()\n",
    "\n",
    "# Convert numeric columns to correct types\n",
    "df[\"CO2 Emissions Per Capita\"] = pd.to_numeric(df[\"CO2 Emissions Per Capita\"], errors=\"coerce\")\n",
    "df[\"Annual Temperature Anomaly\"] = pd.to_numeric(df[\"Annual Temperature Anomaly\"], errors=\"coerce\")\n",
    "\n",
    "# Optional: Check CO2 range and remove extreme outliers\n",
    "print(\"CO2 range before filtering:\", df[\"CO2 Emissions Per Capita\"].min(), \"to\", df[\"CO2 Emissions Per Capita\"].max())\n",
    "print(\"Records over 100:\", len(df[df[\"CO2 Emissions Per Capita\"] > 100]))\n",
    "\n",
    "df = df[df[\"CO2 Emissions Per Capita\"] <= 100]"
   ]
  },
  {
   "cell_type": "code",
   "execution_count": null,
   "id": "a6cf1866-db7e-4c92-bb2c-225a06624932",
   "metadata": {},
   "outputs": [],
   "source": []
  }
 ],
 "metadata": {
  "kernelspec": {
   "display_name": "Python 3 (ipykernel)",
   "language": "python",
   "name": "python3"
  },
  "language_info": {
   "codemirror_mode": {
    "name": "ipython",
    "version": 3
   },
   "file_extension": ".py",
   "mimetype": "text/x-python",
   "name": "python",
   "nbconvert_exporter": "python",
   "pygments_lexer": "ipython3",
   "version": "3.11.9"
  }
 },
 "nbformat": 4,
 "nbformat_minor": 5
}
