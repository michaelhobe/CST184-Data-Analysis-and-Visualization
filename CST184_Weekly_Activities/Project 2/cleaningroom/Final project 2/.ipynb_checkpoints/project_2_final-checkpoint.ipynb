{
 "cells": [
  {
   "cell_type": "code",
   "execution_count": 2,
   "id": "2abf7ef0-fefb-4d2d-8055-ff2222ce30a0",
   "metadata": {},
   "outputs": [],
   "source": [
    "# Import libraries\n",
    "import pandas as pd\n",
    "import matplotlib.pyplot as plt\n",
    "import networkx as nx"
   ]
  },
  {
   "cell_type": "code",
   "execution_count": 3,
   "id": "f844202c-fcc9-448c-b3db-92d3152f38e7",
   "metadata": {},
   "outputs": [
    {
     "name": "stdout",
     "output_type": "stream",
     "text": [
      "Original shape: (26182, 5)\n",
      "Columns: ['Country Name', 'Country Code', 'Year', 'CO2 Emissions Per Capita', 'Annual Temperature Anomaly']\n"
     ]
    }
   ],
   "source": [
    "# Read file\n",
    "df = pd.read_csv(\"owid_climate_data.csv\")\n",
    "\n",
    "print(\"Original shape:\", df.shape)\n",
    "print(\"Columns:\", df.columns.tolist())\n"
   ]
  },
  {
   "cell_type": "code",
   "execution_count": null,
   "id": "d062e21f-03ea-4f0f-872d-3955f3f5441f",
   "metadata": {},
   "outputs": [],
   "source": []
  }
 ],
 "metadata": {
  "kernelspec": {
   "display_name": "Python 3 (ipykernel)",
   "language": "python",
   "name": "python3"
  },
  "language_info": {
   "codemirror_mode": {
    "name": "ipython",
    "version": 3
   },
   "file_extension": ".py",
   "mimetype": "text/x-python",
   "name": "python",
   "nbconvert_exporter": "python",
   "pygments_lexer": "ipython3",
   "version": "3.11.9"
  }
 },
 "nbformat": 4,
 "nbformat_minor": 5
}
